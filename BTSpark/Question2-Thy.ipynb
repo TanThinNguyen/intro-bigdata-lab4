{
 "cells": [
  {
   "cell_type": "code",
   "execution_count": 1,
   "metadata": {
    "id": "fBsk29dSOWPy"
   },
   "outputs": [],
   "source": [
    "import findspark\n",
    "findspark.init()\n",
    "findspark.find()\n",
    "from pyspark.sql import SparkSession\n",
    "\n",
    "\n",
    "spark = SparkSession.builder\\\n",
    "        .master(\"local\")\\\n",
    "        .appName(\"Colab\")\\\n",
    "        .config('spark.ui.port', '4050')\\\n",
    "        .getOrCreate()"
   ]
  },
  {
   "cell_type": "code",
   "execution_count": 2,
   "metadata": {
    "id": "ZmVQZ34KOhD0"
   },
   "outputs": [],
   "source": [
    "from pyspark.sql.functions import col\n",
    "from pyspark.sql import functions as f\n",
    "from pyspark.sql.types import IntegerType, StringType, ArrayType\n",
    "from pyspark.sql.functions import monotonically_increasing_id"
   ]
  },
  {
   "cell_type": "code",
   "execution_count": 3,
   "metadata": {
    "colab": {
     "base_uri": "https://localhost:8080/"
    },
    "id": "K3PoBnRGO7b2",
    "outputId": "28c4fef5-fb91-4adb-dcbd-0d2fed47ab86",
    "scrolled": true,
    "tags": []
   },
   "outputs": [
    {
     "name": "stdout",
     "output_type": "stream",
     "text": [
      "+------------+---------+-------+--------------+------+---------+----+-------+-------+------------+-----------------+------+------+-----+---------+---------------+-----+--------+------+-------------+------------------+-----------+-------+-----------+--------------+--------+----------+-----------+-----------+----+------+-----------+----------+----+-----------------+---------------+------------+-------------+----------+--------------+-----------------+---+---------+----------+--------------+--------+---------+---------+---+-----+-----+----------+----+----+---------+-------+------------+----+-------+-----------+--------+------------+-----------+-----+-------------+----------------+-----+----------------+-------+---------+------------+-------------+-------------+---------+--------+----+--------+------+------------+-------+---------+------+------------+----+----+----------+------+-------+----------------+-----+----------+----+--------------+-----+------------+----+---------+-------+----+------+\n",
      "|Acetominifen|Anchovies|Aspirin|Auto Magazines|Bagels|Batteries|Beer|Bologna|Candles|Canned Fruit|Canned Vegetables|Cereal|Cheese|Chips|Chocolate|Chocolate Candy|Clams|Cleaners|Coffee|Cold Remedies|Computer Magazines|Conditioner|Cookies|Cooking Oil|Cottage Cheese|Crackers|Deli Meats|Deli Salads|Deodorizers|Dips|Donuts|Dried Fruit|Dried Meat|Eggs|Fashion Magazines|Flavored Drinks|French Fries|Fresh Chicken|Fresh Fish|Frozen Chicken|Frozen Vegetables|Gum|Hamburger|Hard Candy|Home Magazines|Hot Dogs|Ibuprofen|Ice Cream|Jam|Jelly|Juice|Lightbulbs|Maps|Milk|Mouthwash|Muffins|Nasal Sprays|Nuts|Oysters|Pancake Mix|Pancakes|Paper Dishes|Paper Wipes|Pasta|Peanut Butter|Personal Hygiene|Pizza|Plastic Utensils|Popcorn|Popsicles|Pot Cleaners|Pot Scrubbers|Pots and Pans|Preserves|Pretzels|Rice|Sardines|Sauces|Screwdrivers|Shampoo|Shellfish|Shrimp|Sliced Bread|Soda|Soup|Sour Cream|Spices|Sponges|Sports Magazines|Sugar|Sunglasses|Tofu|Toilet Brushes|Tools|Toothbrushes|Tuna|TV Dinner|Waffles|Wine|Yogurt|\n",
      "+------------+---------+-------+--------------+------+---------+----+-------+-------+------------+-----------------+------+------+-----+---------+---------------+-----+--------+------+-------------+------------------+-----------+-------+-----------+--------------+--------+----------+-----------+-----------+----+------+-----------+----------+----+-----------------+---------------+------------+-------------+----------+--------------+-----------------+---+---------+----------+--------------+--------+---------+---------+---+-----+-----+----------+----+----+---------+-------+------------+----+-------+-----------+--------+------------+-----------+-----+-------------+----------------+-----+----------------+-------+---------+------------+-------------+-------------+---------+--------+----+--------+------+------------+-------+---------+------+------------+----+----+----------+------+-------+----------------+-----+----------+----+--------------+-----+------------+----+---------+-------+----+------+\n",
      "|           1|        0|      0|             0|     0|        0|   0|      0|      0|           0|                0|     0|     1|    0|        0|              0|    0|       0|     0|            0|                 0|          0|      0|          0|             0|       0|         0|          0|          0|   0|     0|          0|         0|   0|                0|              0|           0|            0|         0|             0|                0|  0|        0|         0|             1|       0|        0|        0|  0|    0|    0|         0|   0|   0|        0|      0|           0|   0|      0|          0|       0|           0|          0|    0|            0|               0|    0|               0|      0|        0|           0|            0|            0|        0|       0|   0|       0|     0|           0|      1|        0|     0|           0|   0|   0|         0|     0|      0|               0|    0|         0|   0|             0|    0|           0|   0|        0|      0|   0|     0|\n",
      "|           1|        0|      0|             0|     0|        0|   0|      0|      0|           0|                0|     0|     1|    0|        0|              0|    0|       0|     0|            0|                 0|          0|      0|          0|             0|       0|         0|          0|          0|   0|     0|          0|         0|   0|                0|              0|           0|            0|         0|             0|                0|  0|        0|         1|             0|       0|        0|        0|  0|    0|    0|         0|   0|   1|        0|      0|           0|   0|      0|          0|       0|           0|          0|    0|            0|               0|    0|               0|      0|        0|           0|            1|            0|        0|       0|   1|       0|     0|           0|      0|        0|     0|           0|   0|   0|         0|     0|      0|               0|    0|         0|   0|             0|    0|           0|   0|        0|      0|   0|     0|\n",
      "|           0|        0|      0|             0|     0|        0|   0|      0|      0|           0|                0|     0|     0|    0|        0|              0|    0|       0|     1|            0|                 0|          0|      0|          0|             0|       0|         0|          1|          0|   0|     0|          0|         0|   0|                0|              0|           0|            0|         0|             0|                0|  0|        0|         0|             0|       0|        0|        0|  0|    0|    0|         0|   0|   0|        0|      0|           0|   0|      0|          0|       0|           0|          0|    0|            0|               0|    0|               0|      0|        0|           0|            0|            0|        0|       0|   0|       0|     0|           0|      0|        0|     0|           0|   0|   0|         0|     0|      0|               0|    0|         0|   0|             0|    0|           0|   0|        0|      0|   0|     0|\n",
      "|           0|        0|      0|             0|     0|        0|   0|      0|      0|           0|                0|     0|     0|    0|        0|              0|    0|       0|     0|            0|                 0|          0|      0|          0|             0|       0|         0|          0|          0|   0|     0|          0|         0|   1|                0|              0|           0|            0|         0|             0|                0|  1|        0|         0|             0|       0|        0|        0|  0|    0|    0|         0|   0|   1|        0|      0|           0|   0|      0|          0|       0|           0|          0|    0|            0|               0|    0|               0|      0|        0|           0|            0|            0|        0|       0|   0|       0|     0|           0|      0|        0|     0|           0|   0|   1|         0|     0|      0|               0|    0|         0|   0|             0|    0|           0|   0|        0|      0|   0|     0|\n",
      "|           0|        0|      0|             0|     0|        0|   0|      0|      0|           0|                0|     0|     1|    0|        0|              0|    0|       0|     0|            0|                 0|          0|      0|          0|             0|       0|         0|          0|          0|   0|     0|          1|         0|   0|                0|              0|           0|            0|         0|             1|                0|  0|        0|         0|             0|       0|        0|        0|  0|    0|    0|         0|   0|   0|        0|      0|           0|   0|      0|          0|       0|           0|          0|    0|            0|               0|    0|               1|      0|        0|           0|            0|            0|        0|       0|   0|       0|     0|           0|      0|        0|     0|           0|   0|   0|         0|     0|      0|               0|    0|         0|   0|             0|    0|           0|   0|        0|      0|   0|     0|\n",
      "+------------+---------+-------+--------------+------+---------+----+-------+-------+------------+-----------------+------+------+-----+---------+---------------+-----+--------+------+-------------+------------------+-----------+-------+-----------+--------------+--------+----------+-----------+-----------+----+------+-----------+----------+----+-----------------+---------------+------------+-------------+----------+--------------+-----------------+---+---------+----------+--------------+--------+---------+---------+---+-----+-----+----------+----+----+---------+-------+------------+----+-------+-----------+--------+------------+-----------+-----+-------------+----------------+-----+----------------+-------+---------+------------+-------------+-------------+---------+--------+----+--------+------+------------+-------+---------+------+------------+----+----+----------+------+-------+----------------+-----+----------+----+--------------+-----+------------+----+---------+-------+----+------+\n",
      "only showing top 5 rows\n",
      "\n"
     ]
    }
   ],
   "source": [
    "df = spark.read.load('data/foodmart.csv', format=\"csv\", header=True, delimiter=\",\")\n",
    "df.show(5)"
   ]
  },
  {
   "cell_type": "markdown",
   "metadata": {},
   "source": [
    "### Biến đổi dữ liệu input thành dataframe gồm 2 cột: cột ID tăng dần, cột Items chứa tên các item mua cách nhau bởi dấu phẩy"
   ]
  },
  {
   "cell_type": "code",
   "execution_count": 39,
   "metadata": {
    "colab": {
     "base_uri": "https://localhost:8080/"
    },
    "id": "AssFhP0bPUsc",
    "outputId": "8b506b02-a0d8-4e23-ab7d-e3a4f5ab28d8"
   },
   "outputs": [
    {
     "name": "stdout",
     "output_type": "stream",
     "text": [
      "+------------------------------------------------------+\n",
      "|Items                                                 |\n",
      "+------------------------------------------------------+\n",
      "|Acetominifen,Cheese,Home Magazines,Shampoo            |\n",
      "|Acetominifen,Cheese,Hard Candy,Milk,Pot Scrubbers,Rice|\n",
      "|Coffee,Deli Salads                                    |\n",
      "|Eggs,Gum,Milk,Soup                                    |\n",
      "|Cheese,Dried Fruit,Frozen Chicken,Plastic Utensils    |\n",
      "+------------------------------------------------------+\n",
      "only showing top 5 rows\n",
      "\n"
     ]
    }
   ],
   "source": [
    "from pyspark.sql.types import IntegerType, StringType\n",
    "\n",
    "def func(row):\n",
    "  arr = []\n",
    "  for i in range(len(row)):\n",
    "    if row[i] == '1':\n",
    "      arr.append(cols[i])\n",
    "  return \",\".join(arr)\n",
    "\n",
    "cols = df.columns\n",
    "bought_list = f.udf(lambda row: func(row), StringType())  # udf: user define function\n",
    "\n",
    "items_df = df.withColumn(\"Items\", bought_list(f.struct([x for x in df.columns])))\n",
    "# items_df = df.withColumn(\"Items\", bought_list(f.struct([df[x] for x in df.columns])))\n",
    "items_df.select('Items').show(5, truncate=False)"
   ]
  },
  {
   "cell_type": "code",
   "execution_count": 31,
   "metadata": {},
   "outputs": [
    {
     "name": "stdout",
     "output_type": "stream",
     "text": [
      "+---+---------------------------------------------------------------+\n",
      "|ID |Items                                                          |\n",
      "+---+---------------------------------------------------------------+\n",
      "|1  |Acetominifen,Cheese,Home Magazines,Shampoo                     |\n",
      "|2  |Acetominifen,Cheese,Hard Candy,Milk,Pot Scrubbers,Rice         |\n",
      "|3  |Coffee,Deli Salads                                             |\n",
      "|4  |Eggs,Gum,Milk,Soup                                             |\n",
      "|5  |Cheese,Dried Fruit,Frozen Chicken,Plastic Utensils             |\n",
      "|6  |Shampoo                                                        |\n",
      "|7  |Milk,Paper Wipes,Waffles                                       |\n",
      "|8  |Donuts,Dried Fruit,Frozen Chicken                              |\n",
      "|9  |Cooking Oil,Hamburger,Maps,Popsicles                           |\n",
      "|10 |Cheese,Cooking Oil,Dips,Preserves,TV Dinner                    |\n",
      "|11 |Nasal Sprays                                                   |\n",
      "|12 |Auto Magazines,Fresh Chicken,Frozen Chicken,Pancake Mix,Waffles|\n",
      "|13 |Donuts,Dried Fruit,Waffles                                     |\n",
      "|14 |Cheese,Lightbulbs,Shampoo                                      |\n",
      "|15 |Cooking Oil,Eggs,Pasta,Pizza,Sauces,Sunglasses,Tools           |\n",
      "|16 |Flavored Drinks,Soda,Soup,TV Dinner                            |\n",
      "|17 |Tuna                                                           |\n",
      "|18 |Coffee,Hamburger,Hard Candy,Soda                               |\n",
      "|19 |Ibuprofen,Peanut Butter,Plastic Utensils,Popcorn               |\n",
      "|20 |Chips,Juice,Lightbulbs,Mouthwash,Muffins,Personal Hygiene      |\n",
      "+---+---------------------------------------------------------------+\n",
      "only showing top 20 rows\n",
      "\n"
     ]
    }
   ],
   "source": [
    "processed_df = items_df.withColumn(\"ID\", monotonically_increasing_id() + 1).select('ID', 'Items')\n",
    "processed_df.show(truncate=False)"
   ]
  },
  {
   "cell_type": "code",
   "execution_count": 9,
   "metadata": {},
   "outputs": [
    {
     "data": {
      "text/plain": [
       "Column<'struct(Acetominifen, Anchovies, Aspirin, Auto Magazines, Bagels, Batteries, Beer, Bologna, Candles, Canned Fruit, Canned Vegetables, Cereal, Cheese, Chips, Chocolate, Chocolate Candy, Clams, Cleaners, Coffee, Cold Remedies, Computer Magazines, Conditioner, Cookies, Cooking Oil, Cottage Cheese, Crackers, Deli Meats, Deli Salads, Deodorizers, Dips, Donuts, Dried Fruit, Dried Meat, Eggs, Fashion Magazines, Flavored Drinks, French Fries, Fresh Chicken, Fresh Fish, Frozen Chicken, Frozen Vegetables, Gum, Hamburger, Hard Candy, Home Magazines, Hot Dogs, Ibuprofen, Ice Cream, Jam, Jelly, Juice, Lightbulbs, Maps, Milk, Mouthwash, Muffins, Nasal Sprays, Nuts, Oysters, Pancake Mix, Pancakes, Paper Dishes, Paper Wipes, Pasta, Peanut Butter, Personal Hygiene, Pizza, Plastic Utensils, Popcorn, Popsicles, Pot Cleaners, Pot Scrubbers, Pots and Pans, Preserves, Pretzels, Rice, Sardines, Sauces, Screwdrivers, Shampoo, Shellfish, Shrimp, Sliced Bread, Soda, Soup, Sour Cream, Spices, Sponges, Sports Magazines, Sugar, Sunglasses, Tofu, Toilet Brushes, Tools, Toothbrushes, Tuna, TV Dinner, Waffles, Wine, Yogurt)'>"
      ]
     },
     "execution_count": 9,
     "metadata": {},
     "output_type": "execute_result"
    }
   ],
   "source": [
    "#nhap\n",
    "f.struct([df[x] for x in df.columns])"
   ]
  },
  {
   "cell_type": "code",
   "execution_count": 40,
   "metadata": {},
   "outputs": [
    {
     "data": {
      "text/plain": [
       "Column<'struct(Acetominifen, Anchovies, Aspirin, Auto Magazines, Bagels, Batteries, Beer, Bologna, Candles, Canned Fruit, Canned Vegetables, Cereal, Cheese, Chips, Chocolate, Chocolate Candy, Clams, Cleaners, Coffee, Cold Remedies, Computer Magazines, Conditioner, Cookies, Cooking Oil, Cottage Cheese, Crackers, Deli Meats, Deli Salads, Deodorizers, Dips, Donuts, Dried Fruit, Dried Meat, Eggs, Fashion Magazines, Flavored Drinks, French Fries, Fresh Chicken, Fresh Fish, Frozen Chicken, Frozen Vegetables, Gum, Hamburger, Hard Candy, Home Magazines, Hot Dogs, Ibuprofen, Ice Cream, Jam, Jelly, Juice, Lightbulbs, Maps, Milk, Mouthwash, Muffins, Nasal Sprays, Nuts, Oysters, Pancake Mix, Pancakes, Paper Dishes, Paper Wipes, Pasta, Peanut Butter, Personal Hygiene, Pizza, Plastic Utensils, Popcorn, Popsicles, Pot Cleaners, Pot Scrubbers, Pots and Pans, Preserves, Pretzels, Rice, Sardines, Sauces, Screwdrivers, Shampoo, Shellfish, Shrimp, Sliced Bread, Soda, Soup, Sour Cream, Spices, Sponges, Sports Magazines, Sugar, Sunglasses, Tofu, Toilet Brushes, Tools, Toothbrushes, Tuna, TV Dinner, Waffles, Wine, Yogurt)'>"
      ]
     },
     "execution_count": 40,
     "metadata": {},
     "output_type": "execute_result"
    }
   ],
   "source": [
    "#nhap\n",
    "f.struct([x for x in df.columns])"
   ]
  },
  {
   "cell_type": "code",
   "execution_count": 23,
   "metadata": {},
   "outputs": [
    {
     "data": {
      "text/plain": [
       "['Acetominifen', 'Cheese', 'Home Magazines', 'Shampoo']"
      ]
     },
     "execution_count": 23,
     "metadata": {},
     "output_type": "execute_result"
    }
   ],
   "source": [
    "#nhap\n",
    "cols = df.columns\n",
    "tmp = df.collect()[0]  # get first row\n",
    "[cols[i] for i in range(len(tmp)) if tmp[i] == '1']"
   ]
  },
  {
   "cell_type": "markdown",
   "metadata": {},
   "source": [
    "### Biến đổi dữ liệu input thành dataframe gồm 2 cột: cột ID tăng dần, cột Items là array chứa tên các item mua"
   ]
  },
  {
   "cell_type": "code",
   "execution_count": 34,
   "metadata": {
    "colab": {
     "base_uri": "https://localhost:8080/"
    },
    "id": "-0_qDiVOhmMf",
    "outputId": "fb7e07ac-2eec-4679-8406-d551e88e3af1"
   },
   "outputs": [
    {
     "name": "stdout",
     "output_type": "stream",
     "text": [
      "+-------------------------------------------------------------+\n",
      "|Items                                                        |\n",
      "+-------------------------------------------------------------+\n",
      "|[Acetominifen, Cheese, Home Magazines, Shampoo]              |\n",
      "|[Acetominifen, Cheese, Hard Candy, Milk, Pot Scrubbers, Rice]|\n",
      "|[Coffee, Deli Salads]                                        |\n",
      "|[Eggs, Gum, Milk, Soup]                                      |\n",
      "|[Cheese, Dried Fruit, Frozen Chicken, Plastic Utensils]      |\n",
      "+-------------------------------------------------------------+\n",
      "only showing top 5 rows\n",
      "\n"
     ]
    }
   ],
   "source": [
    "from pyspark.sql.types import IntegerType, StringType, ArrayType\n",
    "\n",
    "def func(row):\n",
    "  arr = []\n",
    "  for i in range(len(row)):\n",
    "    if row[i] == '1':\n",
    "      arr.append(cols[i])\n",
    "  return arr\n",
    "\n",
    "cols = df.columns\n",
    "bought_list = f.udf(lambda row: func(row), ArrayType(StringType()))\n",
    "\n",
    "items_df = df.withColumn(\"Items\", bought_list(f.struct([df[x] for x in df.columns])))\n",
    "items_df.select('Items').show(5, truncate=False)"
   ]
  },
  {
   "cell_type": "code",
   "execution_count": 35,
   "metadata": {
    "colab": {
     "base_uri": "https://localhost:8080/"
    },
    "id": "glvmLCHve9HB",
    "outputId": "d17abff5-8089-4d22-e3a7-9db64506ec5a"
   },
   "outputs": [
    {
     "name": "stdout",
     "output_type": "stream",
     "text": [
      "+---+---------------------------------------------------------------------+\n",
      "|ID |Items                                                                |\n",
      "+---+---------------------------------------------------------------------+\n",
      "|1  |[Acetominifen, Cheese, Home Magazines, Shampoo]                      |\n",
      "|2  |[Acetominifen, Cheese, Hard Candy, Milk, Pot Scrubbers, Rice]        |\n",
      "|3  |[Coffee, Deli Salads]                                                |\n",
      "|4  |[Eggs, Gum, Milk, Soup]                                              |\n",
      "|5  |[Cheese, Dried Fruit, Frozen Chicken, Plastic Utensils]              |\n",
      "|6  |[Shampoo]                                                            |\n",
      "|7  |[Milk, Paper Wipes, Waffles]                                         |\n",
      "|8  |[Donuts, Dried Fruit, Frozen Chicken]                                |\n",
      "|9  |[Cooking Oil, Hamburger, Maps, Popsicles]                            |\n",
      "|10 |[Cheese, Cooking Oil, Dips, Preserves, TV Dinner]                    |\n",
      "|11 |[Nasal Sprays]                                                       |\n",
      "|12 |[Auto Magazines, Fresh Chicken, Frozen Chicken, Pancake Mix, Waffles]|\n",
      "|13 |[Donuts, Dried Fruit, Waffles]                                       |\n",
      "|14 |[Cheese, Lightbulbs, Shampoo]                                        |\n",
      "|15 |[Cooking Oil, Eggs, Pasta, Pizza, Sauces, Sunglasses, Tools]         |\n",
      "|16 |[Flavored Drinks, Soda, Soup, TV Dinner]                             |\n",
      "|17 |[Tuna]                                                               |\n",
      "|18 |[Coffee, Hamburger, Hard Candy, Soda]                                |\n",
      "|19 |[Ibuprofen, Peanut Butter, Plastic Utensils, Popcorn]                |\n",
      "|20 |[Chips, Juice, Lightbulbs, Mouthwash, Muffins, Personal Hygiene]     |\n",
      "+---+---------------------------------------------------------------------+\n",
      "only showing top 20 rows\n",
      "\n"
     ]
    }
   ],
   "source": [
    "from pyspark.sql.functions import monotonically_increasing_id\n",
    "processed_df = items_df.withColumn(\"ID\", monotonically_increasing_id() + 1).select('ID', 'Items')\n",
    "processed_df.show(truncate=False)"
   ]
  },
  {
   "cell_type": "code",
   "execution_count": 36,
   "metadata": {
    "colab": {
     "base_uri": "https://localhost:8080/"
    },
    "id": "L_RXU5AlhPC8",
    "outputId": "87fa77ca-a637-448d-bded-471fc1cba7c9"
   },
   "outputs": [
    {
     "name": "stderr",
     "output_type": "stream",
     "text": [
      "D:\\Spark\\spark-3.2.0-bin-hadoop3.2\\python\\pyspark\\sql\\context.py:127: FutureWarning: Deprecated in 3.0.0. Use SparkSession.builder.getOrCreate() instead.\n",
      "  FutureWarning\n"
     ]
    }
   ],
   "source": [
    "from pyspark.ml.fpm import FPGrowth\n",
    "fpGrowth = FPGrowth(itemsCol=\"Items\", minSupport=0.1, minConfidence=0.9)\n",
    "model = fpGrowth.fit(processed_df)\n",
    "# get the frequent itemsets\n",
    "patternsDF = model.freqItemsets\n",
    "# get the association rules\n",
    "rulesDF = model.associationRules"
   ]
  },
  {
   "cell_type": "code",
   "execution_count": 37,
   "metadata": {
    "colab": {
     "base_uri": "https://localhost:8080/"
    },
    "id": "Rh_8k8yxiSFV",
    "outputId": "d8892abb-b3dd-4314-e849-b74a8491b0ad"
   },
   "outputs": [
    {
     "name": "stdout",
     "output_type": "stream",
     "text": [
      "+-------------+----+\n",
      "|items        |freq|\n",
      "+-------------+----+\n",
      "|[Dried Fruit]|256 |\n",
      "|[Soup]       |280 |\n",
      "|[Cookies]    |238 |\n",
      "|[Cheese]     |285 |\n",
      "+-------------+----+\n",
      "\n"
     ]
    }
   ],
   "source": [
    "patternsDF.show(truncate=False)"
   ]
  },
  {
   "cell_type": "code",
   "execution_count": 38,
   "metadata": {
    "colab": {
     "base_uri": "https://localhost:8080/"
    },
    "id": "m_VVZgeyiU2T",
    "outputId": "1cb679dc-55c6-44da-a37e-e4056d65fded"
   },
   "outputs": [
    {
     "name": "stdout",
     "output_type": "stream",
     "text": [
      "+----------+----------+----------+----+-------+\n",
      "|antecedent|consequent|confidence|lift|support|\n",
      "+----------+----------+----------+----+-------+\n",
      "+----------+----------+----------+----+-------+\n",
      "\n"
     ]
    }
   ],
   "source": [
    "rulesDF.show(truncate=False)"
   ]
  },
  {
   "cell_type": "code",
   "execution_count": null,
   "metadata": {},
   "outputs": [],
   "source": []
  }
 ],
 "metadata": {
  "accelerator": "GPU",
  "colab": {
   "collapsed_sections": [],
   "name": "Question2.ipynb",
   "provenance": []
  },
  "kernelspec": {
   "display_name": "Python 3",
   "language": "python",
   "name": "python3"
  },
  "language_info": {
   "codemirror_mode": {
    "name": "ipython",
    "version": 3
   },
   "file_extension": ".py",
   "mimetype": "text/x-python",
   "name": "python",
   "nbconvert_exporter": "python",
   "pygments_lexer": "ipython3",
   "version": "3.7.6"
  }
 },
 "nbformat": 4,
 "nbformat_minor": 4
}
