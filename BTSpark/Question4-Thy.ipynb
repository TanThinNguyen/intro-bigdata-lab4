{
 "cells": [
  {
   "cell_type": "code",
   "execution_count": 1,
   "metadata": {
    "id": "Ps_Kh6usjk6z"
   },
   "outputs": [],
   "source": [
    "import findspark\n",
    "findspark.init()\n",
    "findspark.find()\n",
    "from pyspark.sql import SparkSession\n",
    "\n",
    "\n",
    "spark = SparkSession.builder\\\n",
    "        .master(\"local\")\\\n",
    "        .appName(\"Colab\")\\\n",
    "        .config('spark.ui.port', '4050')\\\n",
    "        .getOrCreate()"
   ]
  },
  {
   "cell_type": "code",
   "execution_count": 2,
   "metadata": {
    "id": "QcR-FR2ejmPh"
   },
   "outputs": [],
   "source": [
    "from pyspark.sql.functions import col\n",
    "from pyspark.sql import functions as f\n",
    "from pyspark.sql.types import IntegerType, StringType, ArrayType\n",
    "from pyspark.sql.functions import monotonically_increasing_id"
   ]
  },
  {
   "cell_type": "code",
   "execution_count": 4,
   "metadata": {
    "id": "tlfcbetOH-ym"
   },
   "outputs": [],
   "source": [
    "from pyspark.ml.classification import DecisionTreeClassifier\n",
    "from pyspark.ml.feature import IndexToString,StringIndexer, VectorIndexer, VectorAssembler\n",
    "from pyspark.ml.evaluation import MulticlassClassificationEvaluator\n",
    "from pyspark.ml import Pipeline\n",
    "from pyspark.ml.classification import RandomForestClassifier\n",
    "\n",
    "from sklearn.metrics import confusion_matrix, precision_score, recall_score\n",
    "\n",
    "from pyspark.ml.clustering import KMeans\n",
    "from pyspark.ml.evaluation import ClusteringEvaluator\n",
    "from pyspark.ml.feature import StandardScaler"
   ]
  },
  {
   "cell_type": "code",
   "execution_count": 3,
   "metadata": {
    "colab": {
     "base_uri": "https://localhost:8080/"
    },
    "id": "4jtlGWaKm44i",
    "outputId": "da381a89-8f5e-4102-8dd0-dd0ddc504250"
   },
   "outputs": [
    {
     "name": "stdout",
     "output_type": "stream",
     "text": [
      "+---+-------------+------------+-------------+------------+-----------+\n",
      "| Id|SepalLengthCm|SepalWidthCm|PetalLengthCm|PetalWidthCm|    Species|\n",
      "+---+-------------+------------+-------------+------------+-----------+\n",
      "|  1|          5.1|         3.5|          1.4|         0.2|Iris-setosa|\n",
      "|  2|          4.9|         3.0|          1.4|         0.2|Iris-setosa|\n",
      "|  3|          4.7|         3.2|          1.3|         0.2|Iris-setosa|\n",
      "|  4|          4.6|         3.1|          1.5|         0.2|Iris-setosa|\n",
      "|  5|          5.0|         3.6|          1.4|         0.2|Iris-setosa|\n",
      "+---+-------------+------------+-------------+------------+-----------+\n",
      "only showing top 5 rows\n",
      "\n"
     ]
    }
   ],
   "source": [
    "df = spark.read.load('data/iris.csv', format=\"csv\", header=True, delimiter=\",\", inferSchema=True)\n",
    "df.show(5)"
   ]
  },
  {
   "cell_type": "code",
   "execution_count": 5,
   "metadata": {
    "id": "yor0a8sPGmPH"
   },
   "outputs": [],
   "source": [
    "(train, test) = df.randomSplit([0.8, 0.2])"
   ]
  },
  {
   "cell_type": "markdown",
   "metadata": {},
   "source": [
    "Tạo features vector"
   ]
  },
  {
   "cell_type": "code",
   "execution_count": 32,
   "metadata": {
    "id": "venKSyRYN4pV"
   },
   "outputs": [
    {
     "name": "stdout",
     "output_type": "stream",
     "text": [
      "+-----------+-----------------+-------------------------------------------------------------------------+------------+\n",
      "|Species    |features         |standardized                                                             |indexedLabel|\n",
      "+-----------+-----------------+-------------------------------------------------------------------------+------------+\n",
      "|Iris-setosa|[5.1,3.5,1.4,0.2]|[6.158928408838787,8.072061621390857,0.7934616853039358,0.26206798787142]|0.0         |\n",
      "|Iris-setosa|[4.9,3.0,1.4,0.2]|[5.9174018045706,6.9189099611921625,0.7934616853039358,0.26206798787142] |0.0         |\n",
      "|Iris-setosa|[4.7,3.2,1.3,0.2]|[5.675875200302412,7.38017062527164,0.7367858506393691,0.26206798787142] |0.0         |\n",
      "|Iris-setosa|[4.6,3.1,1.5,0.2]|[5.555111898168318,7.149540293231902,0.8501375199685027,0.26206798787142]|0.0         |\n",
      "|Iris-setosa|[5.0,3.6,1.4,0.2]|[6.038165106704694,8.302691953430596,0.7934616853039358,0.26206798787142]|0.0         |\n",
      "+-----------+-----------------+-------------------------------------------------------------------------+------------+\n",
      "only showing top 5 rows\n",
      "\n"
     ]
    }
   ],
   "source": [
    "numericCols = ['SepalLengthCm', 'SepalWidthCm', 'PetalLengthCm', 'PetalWidthCm']\n",
    "\n",
    "assembler = VectorAssembler(inputCols=numericCols, outputCol=\"features\")\n",
    "scaler = StandardScaler(inputCol='features', outputCol='standardized')\n",
    "labelIndexer = StringIndexer(inputCol=\"Species\", outputCol=\"indexedLabel\")\n",
    "\n",
    "pipeline = Pipeline(stages=[assembler, scaler, labelIndexer])\n",
    "\n",
    "data_transform = pipeline.fit(df)\n",
    "data_scale_output = data_transform.transform(df)\n",
    "data_scale_output.select(['Species', 'features', 'standardized', 'indexedLabel']).show(5, truncate=False)"
   ]
  },
  {
   "cell_type": "markdown",
   "metadata": {},
   "source": [
    "Thử nghiệm với nhiều giá trị *k* khác nhau"
   ]
  },
  {
   "cell_type": "code",
   "execution_count": 34,
   "metadata": {
    "colab": {
     "base_uri": "https://localhost:8080/"
    },
    "id": "cu3vHJAwP3V5",
    "outputId": "4d7f0bd8-dce0-4b3a-87a2-be528c15a2cb"
   },
   "outputs": [
    {
     "name": "stdout",
     "output_type": "stream",
     "text": [
      "Silhouette Score k = 2: 0.7714149126311811\n",
      "Silhouette Score k = 3: 0.6435633372614079\n",
      "Silhouette Score k = 4: 0.5906029920631519\n",
      "Silhouette Score k = 5: 0.5280198304819759\n",
      "Silhouette Score k = 6: 0.4860366336265978\n",
      "Silhouette Score k = 7: 0.4641212493294926\n",
      "Silhouette Score k = 8: 0.5114460441707614\n",
      "Silhouette Score k = 9: 0.4743608243424115\n"
     ]
    }
   ],
   "source": [
    "from pyspark.ml.clustering import KMeans\n",
    "from pyspark.ml.evaluation import ClusteringEvaluator\n",
    "\n",
    "silhouette_score=[]\n",
    "outputs = []\n",
    "evaluator = ClusteringEvaluator(predictionCol='prediction', featuresCol='standardized', \\\n",
    "                                metricName='silhouette', distanceMeasure='squaredEuclidean')\n",
    "\n",
    "for i in range(2,10):    \n",
    "    KMeans_algo = KMeans(featuresCol='standardized', k=i)\n",
    "    KMeans_fit = KMeans_algo.fit(data_scale_output)\n",
    "    output = KMeans_fit.transform(data_scale_output)\n",
    "    outputs.append(output)\n",
    "    \n",
    "    score = evaluator.evaluate(output)\n",
    "    silhouette_score.append(score)\n",
    "    \n",
    "    print(\"Silhouette Score k = {}: {}\".format(i, score))"
   ]
  },
  {
   "cell_type": "markdown",
   "metadata": {},
   "source": [
    "Chọn k=2 và thực hiện train, dự đoán kết quả"
   ]
  },
  {
   "cell_type": "code",
   "execution_count": 51,
   "metadata": {
    "colab": {
     "base_uri": "https://localhost:8080/"
    },
    "id": "MwOjhXF2QcFc",
    "outputId": "0110940e-4474-44d6-8220-357ba7407d73"
   },
   "outputs": [
    {
     "name": "stdout",
     "output_type": "stream",
     "text": [
      "+---+-------------+------------+-------------+------------+-----------+-----------------+--------------------+------------+----------+\n",
      "| Id|SepalLengthCm|SepalWidthCm|PetalLengthCm|PetalWidthCm|    Species|         features|        standardized|indexedLabel|prediction|\n",
      "+---+-------------+------------+-------------+------------+-----------+-----------------+--------------------+------------+----------+\n",
      "|  1|          5.1|         3.5|          1.4|         0.2|Iris-setosa|[5.1,3.5,1.4,0.2]|[6.15892840883878...|         0.0|         0|\n",
      "|  2|          4.9|         3.0|          1.4|         0.2|Iris-setosa|[4.9,3.0,1.4,0.2]|[5.9174018045706,...|         0.0|         0|\n",
      "|  3|          4.7|         3.2|          1.3|         0.2|Iris-setosa|[4.7,3.2,1.3,0.2]|[5.67587520030241...|         0.0|         0|\n",
      "|  4|          4.6|         3.1|          1.5|         0.2|Iris-setosa|[4.6,3.1,1.5,0.2]|[5.55511189816831...|         0.0|         0|\n",
      "|  5|          5.0|         3.6|          1.4|         0.2|Iris-setosa|[5.0,3.6,1.4,0.2]|[6.03816510670469...|         0.0|         0|\n",
      "|  6|          5.4|         3.9|          1.7|         0.4|Iris-setosa|[5.4,3.9,1.7,0.4]|[6.52121831524107...|         0.0|         0|\n",
      "|  7|          4.6|         3.4|          1.4|         0.3|Iris-setosa|[4.6,3.4,1.4,0.3]|[5.55511189816831...|         0.0|         0|\n",
      "|  8|          5.0|         3.4|          1.5|         0.2|Iris-setosa|[5.0,3.4,1.5,0.2]|[6.03816510670469...|         0.0|         0|\n",
      "|  9|          4.4|         2.9|          1.4|         0.2|Iris-setosa|[4.4,2.9,1.4,0.2]|[5.31358529390013...|         0.0|         0|\n",
      "| 10|          4.9|         3.1|          1.5|         0.1|Iris-setosa|[4.9,3.1,1.5,0.1]|[5.9174018045706,...|         0.0|         0|\n",
      "| 11|          5.4|         3.7|          1.5|         0.2|Iris-setosa|[5.4,3.7,1.5,0.2]|[6.52121831524107...|         0.0|         0|\n",
      "| 12|          4.8|         3.4|          1.6|         0.2|Iris-setosa|[4.8,3.4,1.6,0.2]|[5.79663850243650...|         0.0|         0|\n",
      "| 13|          4.8|         3.0|          1.4|         0.1|Iris-setosa|[4.8,3.0,1.4,0.1]|[5.79663850243650...|         0.0|         0|\n",
      "| 14|          4.3|         3.0|          1.1|         0.1|Iris-setosa|[4.3,3.0,1.1,0.1]|[5.19282199176603...|         0.0|         0|\n",
      "| 15|          5.8|         4.0|          1.2|         0.2|Iris-setosa|[5.8,4.0,1.2,0.2]|[7.00427152377744...|         0.0|         0|\n",
      "| 16|          5.7|         4.4|          1.5|         0.4|Iris-setosa|[5.7,4.4,1.5,0.4]|[6.88350822164335...|         0.0|         0|\n",
      "| 17|          5.4|         3.9|          1.3|         0.4|Iris-setosa|[5.4,3.9,1.3,0.4]|[6.52121831524107...|         0.0|         0|\n",
      "| 18|          5.1|         3.5|          1.4|         0.3|Iris-setosa|[5.1,3.5,1.4,0.3]|[6.15892840883878...|         0.0|         0|\n",
      "| 19|          5.7|         3.8|          1.7|         0.3|Iris-setosa|[5.7,3.8,1.7,0.3]|[6.88350822164335...|         0.0|         0|\n",
      "| 20|          5.1|         3.8|          1.5|         0.3|Iris-setosa|[5.1,3.8,1.5,0.3]|[6.15892840883878...|         0.0|         0|\n",
      "+---+-------------+------------+-------------+------------+-----------+-----------------+--------------------+------------+----------+\n",
      "only showing top 20 rows\n",
      "\n"
     ]
    }
   ],
   "source": [
    "KMeans_algo = KMeans(featuresCol='standardized', k=2)\n",
    "KMeans_fit = KMeans_algo.fit(data_scale_output)\n",
    "output = KMeans_fit.transform(data_scale_output)\n",
    "output.show()"
   ]
  },
  {
   "cell_type": "code",
   "execution_count": 52,
   "metadata": {},
   "outputs": [
    {
     "name": "stdout",
     "output_type": "stream",
     "text": [
      "+----------+---------------+-----+\n",
      "|prediction|        Species|count|\n",
      "+----------+---------------+-----+\n",
      "|         1| Iris-virginica|   50|\n",
      "|         0|    Iris-setosa|   50|\n",
      "|         1|Iris-versicolor|   50|\n",
      "+----------+---------------+-----+\n",
      "\n"
     ]
    }
   ],
   "source": [
    "output.groupby(['prediction', 'Species']).count().show()"
   ]
  },
  {
   "cell_type": "code",
   "execution_count": 53,
   "metadata": {
    "colab": {
     "base_uri": "https://localhost:8080/"
    },
    "id": "voCCzjLeRDqk",
    "outputId": "b7ae0551-d81a-4c48-cf47-130d1e1d8838"
   },
   "outputs": [
    {
     "name": "stdout",
     "output_type": "stream",
     "text": [
      "0\n",
      "50\n",
      "0\n"
     ]
    }
   ],
   "source": [
    "print(output.filter('prediction == 0 AND Species == \"Iris-versicolor\"').count())\n",
    "print(output.filter('prediction == 0 AND Species == \"Iris-setosa\"').count())\n",
    "print(output.filter('prediction == 0 AND Species == \"Iris-virginica\"').count())"
   ]
  },
  {
   "cell_type": "code",
   "execution_count": 54,
   "metadata": {
    "colab": {
     "base_uri": "https://localhost:8080/"
    },
    "id": "ZkUHa-MNRUcT",
    "outputId": "6c45e244-5e54-4291-cc14-be9a9788dc70"
   },
   "outputs": [
    {
     "name": "stdout",
     "output_type": "stream",
     "text": [
      "50\n",
      "0\n",
      "50\n"
     ]
    }
   ],
   "source": [
    "print(output.filter('prediction == 1 AND Species == \"Iris-versicolor\"').count())\n",
    "print(output.filter('prediction == 1 AND Species == \"Iris-setosa\"').count())\n",
    "print(output.filter('prediction == 1 AND Species == \"Iris-virginica\"').count())"
   ]
  },
  {
   "cell_type": "markdown",
   "metadata": {},
   "source": [
    "Thử với k=3"
   ]
  },
  {
   "cell_type": "code",
   "execution_count": 55,
   "metadata": {
    "colab": {
     "base_uri": "https://localhost:8080/"
    },
    "id": "MwOjhXF2QcFc",
    "outputId": "0110940e-4474-44d6-8220-357ba7407d73"
   },
   "outputs": [
    {
     "name": "stdout",
     "output_type": "stream",
     "text": [
      "+---+-------------+------------+-------------+------------+-----------+-----------------+--------------------+------------+----------+\n",
      "| Id|SepalLengthCm|SepalWidthCm|PetalLengthCm|PetalWidthCm|    Species|         features|        standardized|indexedLabel|prediction|\n",
      "+---+-------------+------------+-------------+------------+-----------+-----------------+--------------------+------------+----------+\n",
      "|  1|          5.1|         3.5|          1.4|         0.2|Iris-setosa|[5.1,3.5,1.4,0.2]|[6.15892840883878...|         0.0|         0|\n",
      "|  2|          4.9|         3.0|          1.4|         0.2|Iris-setosa|[4.9,3.0,1.4,0.2]|[5.9174018045706,...|         0.0|         0|\n",
      "|  3|          4.7|         3.2|          1.3|         0.2|Iris-setosa|[4.7,3.2,1.3,0.2]|[5.67587520030241...|         0.0|         0|\n",
      "|  4|          4.6|         3.1|          1.5|         0.2|Iris-setosa|[4.6,3.1,1.5,0.2]|[5.55511189816831...|         0.0|         0|\n",
      "|  5|          5.0|         3.6|          1.4|         0.2|Iris-setosa|[5.0,3.6,1.4,0.2]|[6.03816510670469...|         0.0|         0|\n",
      "|  6|          5.4|         3.9|          1.7|         0.4|Iris-setosa|[5.4,3.9,1.7,0.4]|[6.52121831524107...|         0.0|         0|\n",
      "|  7|          4.6|         3.4|          1.4|         0.3|Iris-setosa|[4.6,3.4,1.4,0.3]|[5.55511189816831...|         0.0|         0|\n",
      "|  8|          5.0|         3.4|          1.5|         0.2|Iris-setosa|[5.0,3.4,1.5,0.2]|[6.03816510670469...|         0.0|         0|\n",
      "|  9|          4.4|         2.9|          1.4|         0.2|Iris-setosa|[4.4,2.9,1.4,0.2]|[5.31358529390013...|         0.0|         0|\n",
      "| 10|          4.9|         3.1|          1.5|         0.1|Iris-setosa|[4.9,3.1,1.5,0.1]|[5.9174018045706,...|         0.0|         0|\n",
      "| 11|          5.4|         3.7|          1.5|         0.2|Iris-setosa|[5.4,3.7,1.5,0.2]|[6.52121831524107...|         0.0|         0|\n",
      "| 12|          4.8|         3.4|          1.6|         0.2|Iris-setosa|[4.8,3.4,1.6,0.2]|[5.79663850243650...|         0.0|         0|\n",
      "| 13|          4.8|         3.0|          1.4|         0.1|Iris-setosa|[4.8,3.0,1.4,0.1]|[5.79663850243650...|         0.0|         0|\n",
      "| 14|          4.3|         3.0|          1.1|         0.1|Iris-setosa|[4.3,3.0,1.1,0.1]|[5.19282199176603...|         0.0|         0|\n",
      "| 15|          5.8|         4.0|          1.2|         0.2|Iris-setosa|[5.8,4.0,1.2,0.2]|[7.00427152377744...|         0.0|         0|\n",
      "| 16|          5.7|         4.4|          1.5|         0.4|Iris-setosa|[5.7,4.4,1.5,0.4]|[6.88350822164335...|         0.0|         0|\n",
      "| 17|          5.4|         3.9|          1.3|         0.4|Iris-setosa|[5.4,3.9,1.3,0.4]|[6.52121831524107...|         0.0|         0|\n",
      "| 18|          5.1|         3.5|          1.4|         0.3|Iris-setosa|[5.1,3.5,1.4,0.3]|[6.15892840883878...|         0.0|         0|\n",
      "| 19|          5.7|         3.8|          1.7|         0.3|Iris-setosa|[5.7,3.8,1.7,0.3]|[6.88350822164335...|         0.0|         0|\n",
      "| 20|          5.1|         3.8|          1.5|         0.3|Iris-setosa|[5.1,3.8,1.5,0.3]|[6.15892840883878...|         0.0|         0|\n",
      "+---+-------------+------------+-------------+------------+-----------+-----------------+--------------------+------------+----------+\n",
      "only showing top 20 rows\n",
      "\n"
     ]
    }
   ],
   "source": [
    "KMeans_algo = KMeans(featuresCol='standardized', k=3)\n",
    "KMeans_fit = KMeans_algo.fit(data_scale_output)\n",
    "output = KMeans_fit.transform(data_scale_output)\n",
    "output.show()"
   ]
  },
  {
   "cell_type": "code",
   "execution_count": 56,
   "metadata": {},
   "outputs": [
    {
     "name": "stdout",
     "output_type": "stream",
     "text": [
      "+----------+---------------+-----+\n",
      "|prediction|        Species|count|\n",
      "+----------+---------------+-----+\n",
      "|         2|Iris-versicolor|   13|\n",
      "|         1| Iris-virginica|    8|\n",
      "|         0|    Iris-setosa|   49|\n",
      "|         1|Iris-versicolor|   37|\n",
      "|         1|    Iris-setosa|    1|\n",
      "|         2| Iris-virginica|   42|\n",
      "+----------+---------------+-----+\n",
      "\n"
     ]
    }
   ],
   "source": [
    "output.groupby(['prediction', 'Species']).count().show()"
   ]
  }
 ],
 "metadata": {
  "accelerator": "GPU",
  "colab": {
   "collapsed_sections": [],
   "name": "Question4.ipynb",
   "provenance": []
  },
  "kernelspec": {
   "display_name": "Python 3",
   "language": "python",
   "name": "python3"
  },
  "language_info": {
   "codemirror_mode": {
    "name": "ipython",
    "version": 3
   },
   "file_extension": ".py",
   "mimetype": "text/x-python",
   "name": "python",
   "nbconvert_exporter": "python",
   "pygments_lexer": "ipython3",
   "version": "3.7.6"
  }
 },
 "nbformat": 4,
 "nbformat_minor": 4
}
