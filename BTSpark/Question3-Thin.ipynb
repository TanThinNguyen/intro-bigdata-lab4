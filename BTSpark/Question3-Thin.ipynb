{
 "cells": [
  {
   "cell_type": "code",
   "execution_count": 1,
   "metadata": {
    "executionInfo": {
     "elapsed": 340,
     "status": "ok",
     "timestamp": 1642214477260,
     "user": {
      "displayName": "Thy Phạm",
      "photoUrl": "https://lh3.googleusercontent.com/a/default-user=s64",
      "userId": "12774414064547230979"
     },
     "user_tz": -420
    },
    "id": "ueWCylxNbYE0"
   },
   "outputs": [],
   "source": [
    "import findspark\n",
    "findspark.init()\n",
    "findspark.find()\n",
    "\n",
    "from pyspark.sql import SparkSession\n",
    "spark = SparkSession.builder\\\n",
    "        .master(\"local\")\\\n",
    "        .appName(\"Colab\")\\\n",
    "        .config('spark.ui.port', '4050')\\\n",
    "        .getOrCreate()"
   ]
  },
  {
   "cell_type": "code",
   "execution_count": 2,
   "metadata": {
    "executionInfo": {
     "elapsed": 382,
     "status": "ok",
     "timestamp": 1642214678195,
     "user": {
      "displayName": "Thy Phạm",
      "photoUrl": "https://lh3.googleusercontent.com/a/default-user=s64",
      "userId": "12774414064547230979"
     },
     "user_tz": -420
    },
    "id": "jhxt0_OKiEsx"
   },
   "outputs": [],
   "source": [
    "from pyspark.ml.feature import OneHotEncoder, StringIndexer, VectorIndexer, VectorAssembler\n",
    "from pyspark.ml.classification import DecisionTreeClassifier, RandomForestClassifier\n",
    "from pyspark.ml.evaluation import MulticlassClassificationEvaluator\n",
    "from pyspark.ml import Pipeline\n",
    "\n",
    "from sklearn.metrics import confusion_matrix, precision_score, recall_score"
   ]
  },
  {
   "cell_type": "code",
   "execution_count": 10,
   "metadata": {
    "colab": {
     "base_uri": "https://localhost:8080/"
    },
    "executionInfo": {
     "elapsed": 487,
     "status": "ok",
     "timestamp": 1642214484003,
     "user": {
      "displayName": "Thy Phạm",
      "photoUrl": "https://lh3.googleusercontent.com/a/default-user=s64",
      "userId": "12774414064547230979"
     },
     "user_tz": -420
    },
    "id": "mYGsd8Bbb-fr",
    "outputId": "dfd5122d-e30a-4e0a-8b1a-50fe900b5f14"
   },
   "outputs": [
    {
     "name": "stdout",
     "output_type": "stream",
     "text": [
      "+-----+---------+-----------+---------+-------+----+---------------+------------+---------+----------+-----------+----------+------------------------+------------------------+----------------------+----------------------+---------+----------+-----------+---------+-----------------+----------+-------+\n",
      "|class|cap-shape|cap-surface|cap-color|bruises|odor|gill-attachment|gill-spacing|gill-size|gill-color|stalk-shape|stalk-root|stalk-surface-above-ring|stalk-surface-below-ring|stalk-color-above-ring|stalk-color-below-ring|veil-type|veil-color|ring-number|ring-type|spore-print-color|population|habitat|\n",
      "+-----+---------+-----------+---------+-------+----+---------------+------------+---------+----------+-----------+----------+------------------------+------------------------+----------------------+----------------------+---------+----------+-----------+---------+-----------------+----------+-------+\n",
      "|    p|        x|          s|        n|      t|   p|              f|           c|        n|         k|          e|         e|                       s|                       s|                     w|                     w|        p|         w|          o|        p|                k|         s|      u|\n",
      "|    e|        x|          s|        y|      t|   a|              f|           c|        b|         k|          e|         c|                       s|                       s|                     w|                     w|        p|         w|          o|        p|                n|         n|      g|\n",
      "|    e|        b|          s|        w|      t|   l|              f|           c|        b|         n|          e|         c|                       s|                       s|                     w|                     w|        p|         w|          o|        p|                n|         n|      m|\n",
      "|    p|        x|          y|        w|      t|   p|              f|           c|        n|         n|          e|         e|                       s|                       s|                     w|                     w|        p|         w|          o|        p|                k|         s|      u|\n",
      "|    e|        x|          s|        g|      f|   n|              f|           w|        b|         k|          t|         e|                       s|                       s|                     w|                     w|        p|         w|          o|        e|                n|         a|      g|\n",
      "+-----+---------+-----------+---------+-------+----+---------------+------------+---------+----------+-----------+----------+------------------------+------------------------+----------------------+----------------------+---------+----------+-----------+---------+-----------------+----------+-------+\n",
      "only showing top 5 rows\n",
      "\n"
     ]
    }
   ],
   "source": [
    "# Đọc dữ liệu từ csv\n",
    "data = spark.read.load('Data/mushrooms.csv', format=\"csv\", header=True, delimiter=\",\", inferSchema=True)\n",
    "data.show(5)"
   ]
  },
  {
   "cell_type": "code",
   "execution_count": 11,
   "metadata": {
    "executionInfo": {
     "elapsed": 321,
     "status": "ok",
     "timestamp": 1642214716662,
     "user": {
      "displayName": "Thy Phạm",
      "photoUrl": "https://lh3.googleusercontent.com/a/default-user=s64",
      "userId": "12774414064547230979"
     },
     "user_tz": -420
    },
    "id": "oJ-O5W9JexhI"
   },
   "outputs": [],
   "source": [
    "# Chia tập train, test\n",
    "(train, test) = data.randomSplit([0.8, 0.2])"
   ]
  },
  {
   "cell_type": "markdown",
   "metadata": {
    "id": "2JOX3s7Dnfkq"
   },
   "source": [
    "## Decision Tree"
   ]
  },
  {
   "cell_type": "code",
   "execution_count": 16,
   "metadata": {
    "executionInfo": {
     "elapsed": 2932,
     "status": "ok",
     "timestamp": 1642214496289,
     "user": {
      "displayName": "Thy Phạm",
      "photoUrl": "https://lh3.googleusercontent.com/a/default-user=s64",
      "userId": "12774414064547230979"
     },
     "user_tz": -420
    },
    "id": "AzJu3kJhfKrt"
   },
   "outputs": [],
   "source": [
    "# Các cột dùng làm features\n",
    "# columns = ['cap-shape', 'cap-surface', 'cap-color', 'bruises',\\\n",
    "#                'odor', 'gill-attachment', 'gill-spacing', 'gill-size',\\\n",
    "#                'gill-color', 'stalk-shape', 'stalk-root',\\\n",
    "#                'stalk-surface-above-ring', 'stalk-surface-below-ring',\\\n",
    "#                'stalk-color-above-ring', 'stalk-color-below-ring',\\\n",
    "#                'veil-type', 'veil-color', 'ring-number', 'ring-type',\\\n",
    "#                'spore-print-color', 'population', 'habitat']\n",
    "columns = data.columns\n",
    "columns.remove('class')\n",
    "\n",
    "# Tên các cột dùng làm features sau khi được indexed\n",
    "feature_columns = [col + '_indexed' for col in columns]\n",
    "\n",
    "# Tạo các StringIndexer cho các cột categorical\n",
    "indexers = [StringIndexer(inputCol=column, outputCol=column+\"_indexed\") for column in columns]\n",
    "\n",
    "# Tạo assembler gom các giá trị ở các cột dùng làm features thành các vector ở cột \"features\"\n",
    "assembler = VectorAssembler(inputCols=feature_columns, outputCol='features')\n",
    "\n",
    "# Tạo indexer để tạo index cho các vector ở cột \"features\"\n",
    "featureIndexer = VectorIndexer(inputCol=\"features\", outputCol=\"indexedFeatures\", maxCategories=50)\n",
    "\n",
    "# Tạo indexer để map các giá trị cột \"Label\" sang chỉ số nhãn (label indices)\n",
    "labelIndexer = StringIndexer(inputCol='class', outputCol='indexedLabel')\n",
    "\n",
    "# Tạo một bộ phân loại decision tree\n",
    "dt = DecisionTreeClassifier(featuresCol=\"indexedFeatures\", labelCol=\"indexedLabel\")\n",
    "\n",
    "# Xây dựng pipeline là chuỗi các stringIndexers assembler, indexer và classifier\n",
    "pipeline = Pipeline(stages=[*indexers, assembler, featureIndexer, labelIndexer, dt])   # *indexers: decompose indexers list\n",
    "\n",
    "# Training với pipeline đã tạo\n",
    "model = pipeline.fit(train)"
   ]
  },
  {
   "cell_type": "code",
   "execution_count": 17,
   "metadata": {
    "colab": {
     "base_uri": "https://localhost:8080/"
    },
    "executionInfo": {
     "elapsed": 802,
     "status": "ok",
     "timestamp": 1642214499285,
     "user": {
      "displayName": "Thy Phạm",
      "photoUrl": "https://lh3.googleusercontent.com/a/default-user=s64",
      "userId": "12774414064547230979"
     },
     "user_tz": -420
    },
    "id": "pWUhDzb2f8tg",
    "outputId": "77c1cb2d-2a89-4860-f8be-a226a91e7c47"
   },
   "outputs": [
    {
     "name": "stdout",
     "output_type": "stream",
     "text": [
      "+--------------------------------------------------------------------------------------+----------+------------+\n",
      "|features                                                                              |prediction|indexedLabel|\n",
      "+--------------------------------------------------------------------------------------+----------+------------+\n",
      "|(22,[0,1,2,6,8,9,10,12,17,20,21],[3.0,2.0,1.0,1.0,4.0,1.0,1.0,1.0,1.0,3.0,1.0])       |0.0       |0.0         |\n",
      "|(22,[0,1,2,6,8,9,10,12,17,20,21],[3.0,2.0,1.0,1.0,1.0,1.0,1.0,1.0,1.0,3.0,1.0])       |0.0       |0.0         |\n",
      "|(22,[0,1,2,6,8,9,10,17,20,21],[3.0,2.0,1.0,1.0,2.0,1.0,1.0,1.0,2.0,1.0])              |0.0       |0.0         |\n",
      "|(22,[0,1,2,6,8,9,10,11,12,17,20,21],[3.0,2.0,4.0,1.0,4.0,1.0,1.0,1.0,1.0,1.0,2.0,1.0])|0.0       |0.0         |\n",
      "|(22,[0,1,2,6,8,9,10,17,20,21],[3.0,2.0,4.0,1.0,4.0,1.0,1.0,1.0,3.0,1.0])              |0.0       |0.0         |\n",
      "+--------------------------------------------------------------------------------------+----------+------------+\n",
      "only showing top 5 rows\n",
      "\n"
     ]
    }
   ],
   "source": [
    "# Sử dụng model đã train để dự đoán trên tập test\n",
    "predictions = model.transform(test)\n",
    "# Xem kết quả dự đoán gồm cột features, giá trị dự đoán và nhãn\n",
    "predictions.select(\"features\", \"prediction\", \"indexedLabel\").show(5, truncate=False)"
   ]
  },
  {
   "cell_type": "code",
   "execution_count": 18,
   "metadata": {
    "colab": {
     "base_uri": "https://localhost:8080/"
    },
    "executionInfo": {
     "elapsed": 489,
     "status": "ok",
     "timestamp": 1642214500216,
     "user": {
      "displayName": "Thy Phạm",
      "photoUrl": "https://lh3.googleusercontent.com/a/default-user=s64",
      "userId": "12774414064547230979"
     },
     "user_tz": -420
    },
    "id": "Mv1OZLMMgEE9",
    "outputId": "56b09eaf-058f-4601-958b-3f1d695cdd0f"
   },
   "outputs": [
    {
     "name": "stdout",
     "output_type": "stream",
     "text": [
      "DecisionTreeClassificationModel: uid=DecisionTreeClassifier_56dfefe119cc, depth=4, numNodes=9, numClasses=2, numFeatures=22\n",
      "Decision Tree - Test Accuracy = 0.997487\n",
      "Decision Tree - Test Error = 0.00251256\n"
     ]
    }
   ],
   "source": [
    "# Tạo evaluator và tính độ chính xác dự đoán của model\n",
    "evaluator = MulticlassClassificationEvaluator(\n",
    "    labelCol=\"indexedLabel\", predictionCol=\"prediction\", metricName=\"accuracy\")\n",
    "accuracy = evaluator.evaluate(predictions)\n",
    "\n",
    "# In thông tin summary của model\n",
    "treeModel = model.stages[-1]\n",
    "print(treeModel)\n",
    "\n",
    "# In các kết quả đánh giá model\n",
    "print(\"Decision Tree - Test Accuracy = %g\" % (accuracy))\n",
    "print(\"Decision Tree - Test Error = %g\" % (1.0 - accuracy))"
   ]
  },
  {
   "cell_type": "code",
   "execution_count": 19,
   "metadata": {
    "colab": {
     "base_uri": "https://localhost:8080/"
    },
    "executionInfo": {
     "elapsed": 1892,
     "status": "ok",
     "timestamp": 1642214505521,
     "user": {
      "displayName": "Thy Phạm",
      "photoUrl": "https://lh3.googleusercontent.com/a/default-user=s64",
      "userId": "12774414064547230979"
     },
     "user_tz": -420
    },
    "id": "6YGmghJsgKJk",
    "outputId": "3a8af0e2-1686-4027-f890-75e216333d74"
   },
   "outputs": [
    {
     "name": "stdout",
     "output_type": "stream",
     "text": [
      "The Confusion Matrix for Decision Tree Model is :\n",
      "[[821   0]\n",
      " [  4 767]]\n",
      "The precision score for Decision Tree Model is: 0.9974874371859297\n",
      "The recall score for Decision Tree Model is: 0.9974874371859297\n"
     ]
    }
   ],
   "source": [
    "# Tạo y_true, y_pred kiểu list để đánh giá model sử dụng các hàm của sklearn\n",
    "y_true = predictions.select(\"indexedLabel\").rdd.flatMap(lambda x: x).collect()\n",
    "y_pred = predictions.select(\"prediction\").rdd.flatMap(lambda x: x).collect()\n",
    "\n",
    "# Tính toán confusion matrix, precision và recall của model\n",
    "confusionmatrix = confusion_matrix(y_true, y_pred)\n",
    "precision = precision_score(y_true, y_pred, average='micro')\n",
    "recall = recall_score(y_true, y_pred, average='micro')\n",
    "\n",
    "print(\"The Confusion Matrix for Decision Tree Model is :\\n\" + str(confusionmatrix))\n",
    "print(\"The precision score for Decision Tree Model is: \" + str(precision))\n",
    "print(\"The recall score for Decision Tree Model is: \" + str(recall))"
   ]
  },
  {
   "cell_type": "markdown",
   "metadata": {
    "id": "2JOX3s7Dnfkq"
   },
   "source": [
    "## Random Forest"
   ]
  },
  {
   "cell_type": "code",
   "execution_count": 20,
   "metadata": {
    "executionInfo": {
     "elapsed": 3664,
     "status": "ok",
     "timestamp": 1642214761035,
     "user": {
      "displayName": "Thy Phạm",
      "photoUrl": "https://lh3.googleusercontent.com/a/default-user=s64",
      "userId": "12774414064547230979"
     },
     "user_tz": -420
    },
    "id": "bTaz4H1rnnAH"
   },
   "outputs": [],
   "source": [
    "# Tạo các StringIndexer cho các cột categorical\n",
    "indexers = [StringIndexer(inputCol=column, outputCol=column+\"_indexed\") for column in columns]\n",
    "\n",
    "# Tạo assembler gom các giá trị ở các cột dùng làm features thành các vector ở cột \"features\"\n",
    "assembler = VectorAssembler(inputCols=feature_columns, outputCol=\"features\")\n",
    "\n",
    "# StringIndexer để mã hóa cột label thành một cột chỉ số nhãn.\n",
    "# Theo mặc định, các nhãn được gán theo tần số. Vì vậy, \n",
    "# label xuất hiện thường xuyên nhất nhận được chỉ số 0.\n",
    "labelIndexer = StringIndexer(inputCol=\"class\", outputCol=\"indexedLabel\")\n",
    "\n",
    "# Tự động phân loại các features thành maxCategories nhóm.\n",
    "featureIndexer = VectorIndexer(inputCol=\"features\", outputCol=\"indexedFeatures\", maxCategories=4)\n",
    "\n",
    "# Tạo một bộ phân loại random forest\n",
    "rf = RandomForestClassifier(labelCol=\"indexedLabel\", featuresCol=\"indexedFeatures\", numTrees=10)\n",
    "\n",
    "# Xây dựng pipeline\n",
    "pipeline = Pipeline(stages=[*indexers, assembler, labelIndexer, featureIndexer, rf])\n",
    "\n",
    "# Train model.\n",
    "model = pipeline.fit(train)"
   ]
  },
  {
   "cell_type": "code",
   "execution_count": 21,
   "metadata": {
    "colab": {
     "base_uri": "https://localhost:8080/"
    },
    "executionInfo": {
     "elapsed": 793,
     "status": "ok",
     "timestamp": 1642214780722,
     "user": {
      "displayName": "Thy Phạm",
      "photoUrl": "https://lh3.googleusercontent.com/a/default-user=s64",
      "userId": "12774414064547230979"
     },
     "user_tz": -420
    },
    "id": "KDiJCOohoMqF",
    "outputId": "761d87e8-c802-435b-e89b-89611d9de0c5"
   },
   "outputs": [
    {
     "name": "stdout",
     "output_type": "stream",
     "text": [
      "+--------------------------------------------------------------------------------------+----------+------------+\n",
      "|features                                                                              |prediction|indexedLabel|\n",
      "+--------------------------------------------------------------------------------------+----------+------------+\n",
      "|(22,[0,1,2,6,8,9,10,12,17,20,21],[3.0,2.0,1.0,1.0,4.0,1.0,1.0,1.0,1.0,3.0,1.0])       |0.0       |0.0         |\n",
      "|(22,[0,1,2,6,8,9,10,12,17,20,21],[3.0,2.0,1.0,1.0,1.0,1.0,1.0,1.0,1.0,3.0,1.0])       |0.0       |0.0         |\n",
      "|(22,[0,1,2,6,8,9,10,17,20,21],[3.0,2.0,1.0,1.0,2.0,1.0,1.0,1.0,2.0,1.0])              |0.0       |0.0         |\n",
      "|(22,[0,1,2,6,8,9,10,11,12,17,20,21],[3.0,2.0,4.0,1.0,4.0,1.0,1.0,1.0,1.0,1.0,2.0,1.0])|0.0       |0.0         |\n",
      "|(22,[0,1,2,6,8,9,10,17,20,21],[3.0,2.0,4.0,1.0,4.0,1.0,1.0,1.0,3.0,1.0])              |0.0       |0.0         |\n",
      "+--------------------------------------------------------------------------------------+----------+------------+\n",
      "only showing top 5 rows\n",
      "\n"
     ]
    }
   ],
   "source": [
    "# Sử dụng model đã train để dự đoán trên tập test\n",
    "predictions = model.transform(test)\n",
    "# Chọn một vài cột để thấy được kết quả\n",
    "predictions.select(\"features\", \"prediction\", \"indexedLabel\").show(5, truncate=False)"
   ]
  },
  {
   "cell_type": "code",
   "execution_count": 22,
   "metadata": {
    "colab": {
     "base_uri": "https://localhost:8080/"
    },
    "executionInfo": {
     "elapsed": 807,
     "status": "ok",
     "timestamp": 1642214788665,
     "user": {
      "displayName": "Thy Phạm",
      "photoUrl": "https://lh3.googleusercontent.com/a/default-user=s64",
      "userId": "12774414064547230979"
     },
     "user_tz": -420
    },
    "id": "P3_OGjDgoQTn",
    "outputId": "a012ebda-cb9d-42f0-ec8a-fbfb95e7b8a6"
   },
   "outputs": [
    {
     "name": "stdout",
     "output_type": "stream",
     "text": [
      "Random Forest - Test Accuracy = 0.998744\n",
      "Random Forest - Test Error = 0.00125628\n"
     ]
    }
   ],
   "source": [
    "# Đánh giá thuật toán \n",
    "evaluator = MulticlassClassificationEvaluator(\n",
    "    labelCol=\"indexedLabel\", predictionCol=\"prediction\", metricName=\"accuracy\")\n",
    "\n",
    "accuracy = evaluator.evaluate(predictions)\n",
    "print(\"Random Forest - Test Accuracy = %g\" % (accuracy))\n",
    "print(\"Random Forest - Test Error = %g\" % (1.0 - accuracy))"
   ]
  },
  {
   "cell_type": "code",
   "execution_count": 23,
   "metadata": {
    "colab": {
     "base_uri": "https://localhost:8080/"
    },
    "executionInfo": {
     "elapsed": 1250,
     "status": "ok",
     "timestamp": 1642214797486,
     "user": {
      "displayName": "Thy Phạm",
      "photoUrl": "https://lh3.googleusercontent.com/a/default-user=s64",
      "userId": "12774414064547230979"
     },
     "user_tz": -420
    },
    "id": "_W6yt3aVoSWj",
    "outputId": "28c42fb5-a6d0-48bb-e084-3d41693fa125"
   },
   "outputs": [
    {
     "name": "stdout",
     "output_type": "stream",
     "text": [
      "The Confusion Matrix for Random Forest Model is :\n",
      "[[821   0]\n",
      " [  2 769]]\n",
      "The precision score for Random Forest Model is: 0.9987437185929648\n",
      "The recall score for Random Forest Model is: 0.9987437185929648\n"
     ]
    }
   ],
   "source": [
    "# Tạo y_true, y_pred kiểu list để đánh giá model sử dụng các hàm của sklearn\n",
    "y_true = predictions.select(\"indexedLabel\").rdd.flatMap(lambda x: x).collect()\n",
    "y_pred = predictions.select(\"prediction\").rdd.flatMap(lambda x: x).collect()\n",
    "\n",
    "# Tính toán confusion matrix, precision và recall của model\n",
    "confusionmatrix = confusion_matrix(y_true, y_pred)\n",
    "precision = precision_score(y_true, y_pred, average='micro')\n",
    "recall = recall_score(y_true, y_pred, average='micro')\n",
    "\n",
    "print(\"The Confusion Matrix for Random Forest Model is :\\n\" + str(confusionmatrix))\n",
    "print(\"The precision score for Random Forest Model is: \" + str(precision))\n",
    "print(\"The recall score for Random Forest Model is: \" + str(recall))"
   ]
  },
  {
   "cell_type": "code",
   "execution_count": null,
   "metadata": {},
   "outputs": [],
   "source": []
  }
 ],
 "metadata": {
  "accelerator": "GPU",
  "colab": {
   "authorship_tag": "ABX9TyM3JYqkJPUWwjZOcWb9jnmp",
   "name": "MLlib.ipynb",
   "provenance": []
  },
  "kernelspec": {
   "display_name": "Python 3",
   "language": "python",
   "name": "python3"
  },
  "language_info": {
   "codemirror_mode": {
    "name": "ipython",
    "version": 3
   },
   "file_extension": ".py",
   "mimetype": "text/x-python",
   "name": "python",
   "nbconvert_exporter": "python",
   "pygments_lexer": "ipython3",
   "version": "3.7.6"
  }
 },
 "nbformat": 4,
 "nbformat_minor": 4
}
