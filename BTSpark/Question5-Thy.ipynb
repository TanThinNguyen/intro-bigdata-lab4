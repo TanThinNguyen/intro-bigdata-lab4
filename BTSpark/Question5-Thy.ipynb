{
 "cells": [
  {
   "cell_type": "code",
   "execution_count": 13,
   "metadata": {
    "id": "_4PYy5XsSLB5"
   },
   "outputs": [],
   "source": [
    "!apt-get install openjdk-8-jdk-headless -qq > /dev/null\n",
    "!wget -q https://dlcdn.apache.org/spark/spark-3.2.0/spark-3.2.0-bin-hadoop3.2.tgz\n",
    "!tar xf spark-3.2.0-bin-hadoop3.2.tgz\n",
    "!pip install -q findspark\n",
    "!pip -q install findspark pyspark graphframes\n",
    "import os\n",
    "os.environ[\"JAVA_HOME\"] = \"/usr/lib/jvm/java-8-openjdk-amd64\"\n",
    "os.environ[\"SPARK_HOME\"] = \"/content/spark-3.2.0-bin-hadoop3.2\"\n",
    "os.environ[\"PYSPARK_SUBMIT_ARGS\"] = \"--packages graphframes:graphframes:0.8.1-spark3.0-s_2.12 pyspark-shell\""
   ]
  },
  {
   "cell_type": "code",
   "execution_count": 14,
   "metadata": {
    "id": "dRt5P0SiVhwJ"
   },
   "outputs": [],
   "source": [
    "import findspark\n",
    "findspark.init()\n",
    "findspark.find()\n",
    "from pyspark.sql import SparkSession\n",
    "\n",
    "\n",
    "spark = SparkSession.builder\\\n",
    "        .master(\"local\")\\\n",
    "        .appName(\"Colab\")\\\n",
    "        .config('spark.ui.port', '4050')\\\n",
    "        .getOrCreate()"
   ]
  },
  {
   "cell_type": "code",
   "execution_count": 15,
   "metadata": {
    "id": "Gfvb-bAgVjKw"
   },
   "outputs": [],
   "source": [
    "from pyspark.sql.functions import *\n",
    "from pyspark.sql import functions as f\n",
    "from pyspark.sql.types import IntegerType, StringType, ArrayType\n",
    "from pyspark.sql.functions import monotonically_increasing_id\n",
    "\n",
    "from graphframes import GraphFrame"
   ]
  },
  {
   "cell_type": "code",
   "execution_count": 16,
   "metadata": {
    "colab": {
     "base_uri": "https://localhost:8080/"
    },
    "id": "1eeL4nYbVlO0",
    "outputId": "7b13c2f2-f5ed-47ee-986e-734025f0429b"
   },
   "outputs": [
    {
     "name": "stdout",
     "output_type": "stream",
     "text": [
      "Drive already mounted at /content/gdrive; to attempt to forcibly remount, call drive.mount(\"/content/gdrive\", force_remount=True).\n",
      "followers.txt  foodmart.csv  iris.csv  movies.json  mushrooms.csv  users.txt\n"
     ]
    }
   ],
   "source": [
    "from google.colab import drive\n",
    "drive.mount('/content/gdrive')\n",
    "!ls \"/content/gdrive/My Drive/Bigdata/final-exercises/data\"\n",
    "USERS_PATH = \"/content/gdrive/My Drive/Bigdata/final-exercises/data/users.txt\"\n",
    "FOLLOWERS_PATH = \"/content/gdrive/My Drive/Bigdata/final-exercises/data/followers.txt\""
   ]
  },
  {
   "cell_type": "code",
   "execution_count": 17,
   "metadata": {
    "colab": {
     "base_uri": "https://localhost:8080/"
    },
    "id": "jWZPm7k4VnAg",
    "outputId": "45dbbf94-baf4-4580-80bf-a69f0c178810"
   },
   "outputs": [
    {
     "name": "stdout",
     "output_type": "stream",
     "text": [
      "+---+-------------+---------------+\n",
      "| id| account_name|       username|\n",
      "+---+-------------+---------------+\n",
      "|  1|  BarackObama|   Barack Obama|\n",
      "|  2|     ladygaga|Goddess of Love|\n",
      "|  3|      jeresig|     John Resig|\n",
      "|  4| justinbieber|  Justin Bieber|\n",
      "|  6|matei_zaharia|  Matei Zaharia|\n",
      "|  7|      odersky| Martin Odersky|\n",
      "|  8|      anonsys|           null|\n",
      "+---+-------------+---------------+\n",
      "\n"
     ]
    }
   ],
   "source": [
    "users_df = spark.read.load(USERS_PATH, format=\"csv\", delimiter=\",\", inferSchema=True)\n",
    "users_df = users_df.withColumnRenamed('_c0', 'id')\\\n",
    "                  .withColumnRenamed('_c1', 'account_name')\\\n",
    "                  .withColumnRenamed('_c2', 'username')\n",
    "users_df.show()"
   ]
  },
  {
   "cell_type": "code",
   "execution_count": 18,
   "metadata": {
    "colab": {
     "base_uri": "https://localhost:8080/"
    },
    "id": "qHCYvuUiawJp",
    "outputId": "7a5b349f-7835-47fc-83d3-e44b03e1676d"
   },
   "outputs": [
    {
     "name": "stdout",
     "output_type": "stream",
     "text": [
      "+---+---+\n",
      "|src|dst|\n",
      "+---+---+\n",
      "|  2|  1|\n",
      "|  4|  1|\n",
      "|  1|  2|\n",
      "|  6|  3|\n",
      "|  7|  3|\n",
      "|  7|  6|\n",
      "|  6|  7|\n",
      "|  3|  7|\n",
      "+---+---+\n",
      "\n"
     ]
    }
   ],
   "source": [
    "followers_df = spark.read.load(FOLLOWERS_PATH, format=\"csv\", delimiter=\" \", inferSchema=True)\n",
    "followers_df = followers_df.withColumnRenamed('_c0', 'src')\\\n",
    "                  .withColumnRenamed('_c1', 'dst')\n",
    "followers_df.show()"
   ]
  },
  {
   "cell_type": "code",
   "execution_count": 19,
   "metadata": {
    "colab": {
     "base_uri": "https://localhost:8080/"
    },
    "id": "Fkwj9cAGgzxA",
    "outputId": "b38e304d-92f8-450d-c612-537e3d132499"
   },
   "outputs": [
    {
     "name": "stdout",
     "output_type": "stream",
     "text": [
      "7\n",
      "8\n",
      "7\n",
      "8\n"
     ]
    }
   ],
   "source": [
    "graph = GraphFrame(users_df, followers_df)\n",
    "print(graph.vertices.count())\n",
    "print(graph.edges.count())\n",
    "print(users_df.count())\n",
    "print(followers_df.count())"
   ]
  },
  {
   "cell_type": "code",
   "execution_count": 20,
   "metadata": {
    "colab": {
     "base_uri": "https://localhost:8080/"
    },
    "id": "GffN-jvSPlOJ",
    "outputId": "7e07e789-7f76-4056-d11d-90ea719685bb"
   },
   "outputs": [
    {
     "name": "stdout",
     "output_type": "stream",
     "text": [
      "+---+-------------+---------------+\n",
      "|id |account_name |username       |\n",
      "+---+-------------+---------------+\n",
      "|1  |BarackObama  |Barack Obama   |\n",
      "|2  |ladygaga     |Goddess of Love|\n",
      "|3  |jeresig      |John Resig     |\n",
      "|4  |justinbieber |Justin Bieber  |\n",
      "|6  |matei_zaharia|Matei Zaharia  |\n",
      "|7  |odersky      |Martin Odersky |\n",
      "|8  |anonsys      |null           |\n",
      "+---+-------------+---------------+\n",
      "\n",
      "+---+---+\n",
      "|src|dst|\n",
      "+---+---+\n",
      "|2  |1  |\n",
      "|4  |1  |\n",
      "|1  |2  |\n",
      "|6  |3  |\n",
      "|7  |3  |\n",
      "|7  |6  |\n",
      "|6  |7  |\n",
      "|3  |7  |\n",
      "+---+---+\n",
      "\n"
     ]
    }
   ],
   "source": [
    "graph.vertices.show(truncate=False)\n",
    "graph.edges.show(truncate=False)"
   ]
  },
  {
   "cell_type": "code",
   "execution_count": 21,
   "metadata": {
    "colab": {
     "base_uri": "https://localhost:8080/"
    },
    "id": "RHh2NL04Qyu8",
    "outputId": "8094ba40-8d47-42f0-e9b0-f6bf0897f747"
   },
   "outputs": [
    {
     "name": "stdout",
     "output_type": "stream",
     "text": [
      "+---+---+------+\n",
      "|src|dst|weight|\n",
      "+---+---+------+\n",
      "|  1|  2|   1.0|\n",
      "|  2|  1|   1.0|\n",
      "|  3|  7|   1.0|\n",
      "|  4|  1|   1.0|\n",
      "|  6|  3|   0.5|\n",
      "|  6|  7|   0.5|\n",
      "|  7|  3|   0.5|\n",
      "|  7|  6|   0.5|\n",
      "+---+---+------+\n",
      "\n",
      "+---+-------------------+\n",
      "| id|           pagerank|\n",
      "+---+-------------------+\n",
      "|  2| 1.6856869000946866|\n",
      "|  1| 1.5582155389297032|\n",
      "|  7|  1.477612668780208|\n",
      "|  3| 1.1382113821138213|\n",
      "|  6| 0.7988100954474346|\n",
      "|  4|0.17073170731707324|\n",
      "|  8|0.17073170731707324|\n",
      "+---+-------------------+\n",
      "\n"
     ]
    }
   ],
   "source": [
    "ranks = graph.pageRank(resetProbability=0.15, maxIter=10)\n",
    "ranks.edges.show()\n",
    "ranks.vertices.orderBy(desc(\"pagerank\")).select(\"id\", \"pagerank\").show()"
   ]
  },
  {
   "cell_type": "code",
   "execution_count": 26,
   "metadata": {
    "colab": {
     "base_uri": "https://localhost:8080/"
    },
    "id": "P0Dw3q4QStan",
    "outputId": "fe6be9b5-b982-4dd4-dedf-c21e7c5e46e3"
   },
   "outputs": [
    {
     "name": "stdout",
     "output_type": "stream",
     "text": [
      "+---+-------------+---------------+---------+\n",
      "| id| account_name|       username|component|\n",
      "+---+-------------+---------------+---------+\n",
      "|  1|  BarackObama|   Barack Obama|        1|\n",
      "|  2|     ladygaga|Goddess of Love|        1|\n",
      "|  3|      jeresig|     John Resig|        3|\n",
      "|  4| justinbieber|  Justin Bieber|        1|\n",
      "|  6|matei_zaharia|  Matei Zaharia|        3|\n",
      "|  7|      odersky| Martin Odersky|        3|\n",
      "|  8|      anonsys|           null|        8|\n",
      "+---+-------------+---------------+---------+\n",
      "\n",
      "+---------+-----+\n",
      "|component|count|\n",
      "+---------+-----+\n",
      "|        1|    3|\n",
      "|        3|    3|\n",
      "|        8|    1|\n",
      "+---------+-----+\n",
      "\n"
     ]
    }
   ],
   "source": [
    "spark.sparkContext.setCheckpointDir(\"/tmp/checkpoints\")\n",
    "minGraph = GraphFrame(users_df, followers_df)\n",
    "connected_graph = minGraph.connectedComponents().where(\"component != 0\")\n",
    "connected_graph.show()\n",
    "connected_graph.groupBy('component').count().show()"
   ]
  },
  {
   "cell_type": "code",
   "execution_count": 27,
   "metadata": {
    "colab": {
     "base_uri": "https://localhost:8080/"
    },
    "id": "bb8x-fSbUgki",
    "outputId": "0577a5b6-0c90-4a4b-bd25-f847533201a3"
   },
   "outputs": [
    {
     "name": "stdout",
     "output_type": "stream",
     "text": [
      "+---+-------------+---------------+---------+\n",
      "| id| account_name|       username|component|\n",
      "+---+-------------+---------------+---------+\n",
      "|  4| justinbieber|  Justin Bieber|        4|\n",
      "|  1|  BarackObama|   Barack Obama|        1|\n",
      "|  6|matei_zaharia|  Matei Zaharia|        3|\n",
      "|  3|      jeresig|     John Resig|        3|\n",
      "|  7|      odersky| Martin Odersky|        3|\n",
      "|  8|      anonsys|           null|        8|\n",
      "|  2|     ladygaga|Goddess of Love|        1|\n",
      "+---+-------------+---------------+---------+\n",
      "\n",
      "+---------+-----+\n",
      "|component|count|\n",
      "+---------+-----+\n",
      "|        1|    2|\n",
      "|        3|    3|\n",
      "|        8|    1|\n",
      "|        4|    1|\n",
      "+---------+-----+\n",
      "\n"
     ]
    }
   ],
   "source": [
    "scc = minGraph.stronglyConnectedComponents(maxIter=3)\n",
    "scc.show()\n",
    "scc.groupBy(\"component\").count().show()"
   ]
  }
 ],
 "metadata": {
  "colab": {
   "collapsed_sections": [],
   "name": "Question5.ipynb",
   "provenance": []
  },
  "kernelspec": {
   "display_name": "Python 3",
   "language": "python",
   "name": "python3"
  },
  "language_info": {
   "codemirror_mode": {
    "name": "ipython",
    "version": 3
   },
   "file_extension": ".py",
   "mimetype": "text/x-python",
   "name": "python",
   "nbconvert_exporter": "python",
   "pygments_lexer": "ipython3",
   "version": "3.7.6"
  }
 },
 "nbformat": 4,
 "nbformat_minor": 4
}
