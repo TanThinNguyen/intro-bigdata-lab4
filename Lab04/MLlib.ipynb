{
  "nbformat": 4,
  "nbformat_minor": 0,
  "metadata": {
    "colab": {
      "name": "MLlib.ipynb",
      "provenance": []
    },
    "kernelspec": {
      "name": "python3",
      "display_name": "Python 3"
    },
    "language_info": {
      "name": "python"
    },
    "accelerator": "GPU"
  },
  "cells": [
    {
      "cell_type": "code",
      "execution_count": null,
      "metadata": {
        "id": "25f75DbibSAR"
      },
      "outputs": [],
      "source": [
        "!apt-get install openjdk-8-jdk-headless -qq > /dev/null\n",
        "!wget -q https://dlcdn.apache.org/spark/spark-3.2.0/spark-3.2.0-bin-hadoop3.2.tgz\n",
        "!tar xf spark-3.2.0-bin-hadoop3.2.tgz\n",
        "!pip install -q findspark\n",
        "import os\n",
        "os.environ[\"JAVA_HOME\"] = \"/usr/lib/jvm/java-8-openjdk-amd64\"\n",
        "os.environ[\"SPARK_HOME\"] = \"/content/spark-3.2.0-bin-hadoop3.2\""
      ]
    },
    {
      "cell_type": "code",
      "source": [
        "import findspark\n",
        "findspark.init()\n",
        "findspark.find()\n",
        "from pyspark.sql import SparkSession\n",
        "\n",
        "spark = SparkSession.builder\\\n",
        "        .master(\"local\")\\\n",
        "        .appName(\"Colab\")\\\n",
        "        .config('spark.ui.port', '4050')\\\n",
        "        .getOrCreate()"
      ],
      "metadata": {
        "id": "ueWCylxNbYE0"
      },
      "execution_count": null,
      "outputs": []
    },
    {
      "cell_type": "code",
      "source": [
        "from pyspark.ml.classification import DecisionTreeClassifier\n",
        "from pyspark.ml.feature import StringIndexer, VectorIndexer, VectorAssembler\n",
        "from pyspark.ml.evaluation import MulticlassClassificationEvaluator\n",
        "from pyspark.ml import Pipeline\n",
        "from pyspark.ml.classification import RandomForestClassifier\n",
        "\n",
        "from sklearn.metrics import confusion_matrix, precision_score, recall_score"
      ],
      "metadata": {
        "id": "jhxt0_OKiEsx"
      },
      "execution_count": null,
      "outputs": []
    },
    {
      "cell_type": "code",
      "source": [
        "from google.colab import drive\n",
        "drive.mount('/content/gdrive')\n",
        "!ls \"/content/gdrive/My Drive/Bigdata/data\""
      ],
      "metadata": {
        "colab": {
          "base_uri": "https://localhost:8080/"
        },
        "id": "NT7M_x76bbhC",
        "outputId": "7c8a8a91-2452-4562-a1b4-adcb341d9da8"
      },
      "execution_count": null,
      "outputs": [
        {
          "output_type": "stream",
          "name": "stdout",
          "text": [
            "Drive already mounted at /content/gdrive; to attempt to forcibly remount, call drive.mount(\"/content/gdrive\", force_remount=True).\n",
            "mushrooms.csv  plants.data   products.csv\n",
            "orders.csv     plants.names  stateabbr.txt\n"
          ]
        }
      ]
    },
    {
      "cell_type": "code",
      "source": [
        "DATA_PATH = \"/content/gdrive/My Drive/Bigdata/data/mushrooms.csv\" "
      ],
      "metadata": {
        "id": "2QOrn7v9b571"
      },
      "execution_count": null,
      "outputs": []
    },
    {
      "cell_type": "code",
      "source": [
        "data = spark.read.load(DATA_PATH, format=\"csv\", header=True, delimiter=\",\")\n",
        "data.show()"
      ],
      "metadata": {
        "colab": {
          "base_uri": "https://localhost:8080/"
        },
        "id": "mYGsd8Bbb-fr",
        "outputId": "dfd5122d-e30a-4e0a-8b1a-50fe900b5f14"
      },
      "execution_count": null,
      "outputs": [
        {
          "output_type": "stream",
          "name": "stdout",
          "text": [
            "+-----+---------+-----------+---------+-------+----+---------------+------------+---------+----------+-----------+----------+------------------------+------------------------+----------------------+----------------------+---------+----------+-----------+---------+-----------------+----------+-------+\n",
            "|class|cap-shape|cap-surface|cap-color|bruises|odor|gill-attachment|gill-spacing|gill-size|gill-color|stalk-shape|stalk-root|stalk-surface-above-ring|stalk-surface-below-ring|stalk-color-above-ring|stalk-color-below-ring|veil-type|veil-color|ring-number|ring-type|spore-print-color|population|habitat|\n",
            "+-----+---------+-----------+---------+-------+----+---------------+------------+---------+----------+-----------+----------+------------------------+------------------------+----------------------+----------------------+---------+----------+-----------+---------+-----------------+----------+-------+\n",
            "|    p|        x|          s|        n|      t|   p|              f|           c|        n|         k|          e|         e|                       s|                       s|                     w|                     w|        p|         w|          o|        p|                k|         s|      u|\n",
            "|    e|        x|          s|        y|      t|   a|              f|           c|        b|         k|          e|         c|                       s|                       s|                     w|                     w|        p|         w|          o|        p|                n|         n|      g|\n",
            "|    e|        b|          s|        w|      t|   l|              f|           c|        b|         n|          e|         c|                       s|                       s|                     w|                     w|        p|         w|          o|        p|                n|         n|      m|\n",
            "|    p|        x|          y|        w|      t|   p|              f|           c|        n|         n|          e|         e|                       s|                       s|                     w|                     w|        p|         w|          o|        p|                k|         s|      u|\n",
            "|    e|        x|          s|        g|      f|   n|              f|           w|        b|         k|          t|         e|                       s|                       s|                     w|                     w|        p|         w|          o|        e|                n|         a|      g|\n",
            "|    e|        x|          y|        y|      t|   a|              f|           c|        b|         n|          e|         c|                       s|                       s|                     w|                     w|        p|         w|          o|        p|                k|         n|      g|\n",
            "|    e|        b|          s|        w|      t|   a|              f|           c|        b|         g|          e|         c|                       s|                       s|                     w|                     w|        p|         w|          o|        p|                k|         n|      m|\n",
            "|    e|        b|          y|        w|      t|   l|              f|           c|        b|         n|          e|         c|                       s|                       s|                     w|                     w|        p|         w|          o|        p|                n|         s|      m|\n",
            "|    p|        x|          y|        w|      t|   p|              f|           c|        n|         p|          e|         e|                       s|                       s|                     w|                     w|        p|         w|          o|        p|                k|         v|      g|\n",
            "|    e|        b|          s|        y|      t|   a|              f|           c|        b|         g|          e|         c|                       s|                       s|                     w|                     w|        p|         w|          o|        p|                k|         s|      m|\n",
            "|    e|        x|          y|        y|      t|   l|              f|           c|        b|         g|          e|         c|                       s|                       s|                     w|                     w|        p|         w|          o|        p|                n|         n|      g|\n",
            "|    e|        x|          y|        y|      t|   a|              f|           c|        b|         n|          e|         c|                       s|                       s|                     w|                     w|        p|         w|          o|        p|                k|         s|      m|\n",
            "|    e|        b|          s|        y|      t|   a|              f|           c|        b|         w|          e|         c|                       s|                       s|                     w|                     w|        p|         w|          o|        p|                n|         s|      g|\n",
            "|    p|        x|          y|        w|      t|   p|              f|           c|        n|         k|          e|         e|                       s|                       s|                     w|                     w|        p|         w|          o|        p|                n|         v|      u|\n",
            "|    e|        x|          f|        n|      f|   n|              f|           w|        b|         n|          t|         e|                       s|                       f|                     w|                     w|        p|         w|          o|        e|                k|         a|      g|\n",
            "|    e|        s|          f|        g|      f|   n|              f|           c|        n|         k|          e|         e|                       s|                       s|                     w|                     w|        p|         w|          o|        p|                n|         y|      u|\n",
            "|    e|        f|          f|        w|      f|   n|              f|           w|        b|         k|          t|         e|                       s|                       s|                     w|                     w|        p|         w|          o|        e|                n|         a|      g|\n",
            "|    p|        x|          s|        n|      t|   p|              f|           c|        n|         n|          e|         e|                       s|                       s|                     w|                     w|        p|         w|          o|        p|                k|         s|      g|\n",
            "|    p|        x|          y|        w|      t|   p|              f|           c|        n|         n|          e|         e|                       s|                       s|                     w|                     w|        p|         w|          o|        p|                n|         s|      u|\n",
            "|    p|        x|          s|        n|      t|   p|              f|           c|        n|         k|          e|         e|                       s|                       s|                     w|                     w|        p|         w|          o|        p|                n|         s|      u|\n",
            "+-----+---------+-----------+---------+-------+----+---------------+------------+---------+----------+-----------+----------+------------------------+------------------------+----------------------+----------------------+---------+----------+-----------+---------+-----------------+----------+-------+\n",
            "only showing top 20 rows\n",
            "\n"
          ]
        }
      ]
    },
    {
      "cell_type": "code",
      "source": [
        "from pyspark.ml import Pipeline\n",
        "from pyspark.ml.feature import OneHotEncoder, StringIndexer\n",
        "columns = ['cap-shape', 'cap-surface', 'cap-color', 'bruises',\\\n",
        "                   'odor', 'gill-attachment', 'gill-spacing', 'gill-size',\\\n",
        "                   'gill-color', 'stalk-shape', 'stalk-root',\\\n",
        "                   'stalk-surface-above-ring', 'stalk-surface-below-ring',\\\n",
        "                   'stalk-color-above-ring', 'stalk-color-below-ring',\\\n",
        "                   'veil-type', 'veil-color', 'ring-number', 'ring-type',\\\n",
        "                   'spore-print-color', 'population', 'habitat']\n",
        "\n",
        "indexers = [StringIndexer(inputCol=column, outputCol=column+\"_numeric\").fit(data) for column in columns]\n",
        "\n",
        "pipeline = Pipeline(stages=indexers)\n",
        "df_indexed = pipeline.fit(data).transform(data)\n",
        "df_indexed.show()"
      ],
      "metadata": {
        "colab": {
          "base_uri": "https://localhost:8080/"
        },
        "id": "IvM3HX6ceG3K",
        "outputId": "5def7c51-1205-4b77-aaa4-f82d3b997d1e"
      },
      "execution_count": null,
      "outputs": [
        {
          "output_type": "stream",
          "name": "stdout",
          "text": [
            "+-----+---------+-----------+---------+-------+----+---------------+------------+---------+----------+-----------+----------+------------------------+------------------------+----------------------+----------------------+---------+----------+-----------+---------+-----------------+----------+-------+-----------------+-------------------+-----------------+---------------+------------+-----------------------+--------------------+-----------------+------------------+-------------------+------------------+--------------------------------+--------------------------------+------------------------------+------------------------------+-----------------+------------------+-------------------+-----------------+-------------------------+------------------+---------------+\n",
            "|class|cap-shape|cap-surface|cap-color|bruises|odor|gill-attachment|gill-spacing|gill-size|gill-color|stalk-shape|stalk-root|stalk-surface-above-ring|stalk-surface-below-ring|stalk-color-above-ring|stalk-color-below-ring|veil-type|veil-color|ring-number|ring-type|spore-print-color|population|habitat|cap-shape_numeric|cap-surface_numeric|cap-color_numeric|bruises_numeric|odor_numeric|gill-attachment_numeric|gill-spacing_numeric|gill-size_numeric|gill-color_numeric|stalk-shape_numeric|stalk-root_numeric|stalk-surface-above-ring_numeric|stalk-surface-below-ring_numeric|stalk-color-above-ring_numeric|stalk-color-below-ring_numeric|veil-type_numeric|veil-color_numeric|ring-number_numeric|ring-type_numeric|spore-print-color_numeric|population_numeric|habitat_numeric|\n",
            "+-----+---------+-----------+---------+-------+----+---------------+------------+---------+----------+-----------+----------+------------------------+------------------------+----------------------+----------------------+---------+----------+-----------+---------+-----------------+----------+-------+-----------------+-------------------+-----------------+---------------+------------+-----------------------+--------------------+-----------------+------------------+-------------------+------------------+--------------------------------+--------------------------------+------------------------------+------------------------------+-----------------+------------------+-------------------+-----------------+-------------------------+------------------+---------------+\n",
            "|    p|        x|          s|        n|      t|   p|              f|           c|        n|         k|          e|         e|                       s|                       s|                     w|                     w|        p|         w|          o|        p|                k|         s|      u|              0.0|                1.0|              0.0|            1.0|         6.0|                    0.0|                 0.0|              1.0|               7.0|                1.0|               2.0|                             0.0|                             0.0|                           0.0|                           0.0|              0.0|               0.0|                0.0|              0.0|                      2.0|               2.0|            4.0|\n",
            "|    e|        x|          s|        y|      t|   a|              f|           c|        b|         k|          e|         c|                       s|                       s|                     w|                     w|        p|         w|          o|        p|                n|         n|      g|              0.0|                1.0|              3.0|            1.0|         4.0|                    0.0|                 0.0|              0.0|               7.0|                1.0|               3.0|                             0.0|                             0.0|                           0.0|                           0.0|              0.0|               0.0|                0.0|              0.0|                      1.0|               3.0|            1.0|\n",
            "|    e|        b|          s|        w|      t|   l|              f|           c|        b|         n|          e|         c|                       s|                       s|                     w|                     w|        p|         w|          o|        p|                n|         n|      m|              3.0|                1.0|              4.0|            1.0|         5.0|                    0.0|                 0.0|              0.0|               3.0|                1.0|               3.0|                             0.0|                             0.0|                           0.0|                           0.0|              0.0|               0.0|                0.0|              0.0|                      1.0|               3.0|            5.0|\n",
            "|    p|        x|          y|        w|      t|   p|              f|           c|        n|         n|          e|         e|                       s|                       s|                     w|                     w|        p|         w|          o|        p|                k|         s|      u|              0.0|                0.0|              4.0|            1.0|         6.0|                    0.0|                 0.0|              1.0|               3.0|                1.0|               2.0|                             0.0|                             0.0|                           0.0|                           0.0|              0.0|               0.0|                0.0|              0.0|                      2.0|               2.0|            4.0|\n",
            "|    e|        x|          s|        g|      f|   n|              f|           w|        b|         k|          t|         e|                       s|                       s|                     w|                     w|        p|         w|          o|        e|                n|         a|      g|              0.0|                1.0|              1.0|            0.0|         0.0|                    0.0|                 1.0|              0.0|               7.0|                0.0|               2.0|                             0.0|                             0.0|                           0.0|                           0.0|              0.0|               0.0|                0.0|              1.0|                      1.0|               4.0|            1.0|\n",
            "|    e|        x|          y|        y|      t|   a|              f|           c|        b|         n|          e|         c|                       s|                       s|                     w|                     w|        p|         w|          o|        p|                k|         n|      g|              0.0|                0.0|              3.0|            1.0|         4.0|                    0.0|                 0.0|              0.0|               3.0|                1.0|               3.0|                             0.0|                             0.0|                           0.0|                           0.0|              0.0|               0.0|                0.0|              0.0|                      2.0|               3.0|            1.0|\n",
            "|    e|        b|          s|        w|      t|   a|              f|           c|        b|         g|          e|         c|                       s|                       s|                     w|                     w|        p|         w|          o|        p|                k|         n|      m|              3.0|                1.0|              4.0|            1.0|         4.0|                    0.0|                 0.0|              0.0|               4.0|                1.0|               3.0|                             0.0|                             0.0|                           0.0|                           0.0|              0.0|               0.0|                0.0|              0.0|                      2.0|               3.0|            5.0|\n",
            "|    e|        b|          y|        w|      t|   l|              f|           c|        b|         n|          e|         c|                       s|                       s|                     w|                     w|        p|         w|          o|        p|                n|         s|      m|              3.0|                0.0|              4.0|            1.0|         5.0|                    0.0|                 0.0|              0.0|               3.0|                1.0|               3.0|                             0.0|                             0.0|                           0.0|                           0.0|              0.0|               0.0|                0.0|              0.0|                      1.0|               2.0|            5.0|\n",
            "|    p|        x|          y|        w|      t|   p|              f|           c|        n|         p|          e|         e|                       s|                       s|                     w|                     w|        p|         w|          o|        p|                k|         v|      g|              0.0|                0.0|              4.0|            1.0|         6.0|                    0.0|                 0.0|              1.0|               1.0|                1.0|               2.0|                             0.0|                             0.0|                           0.0|                           0.0|              0.0|               0.0|                0.0|              0.0|                      2.0|               0.0|            1.0|\n",
            "|    e|        b|          s|        y|      t|   a|              f|           c|        b|         g|          e|         c|                       s|                       s|                     w|                     w|        p|         w|          o|        p|                k|         s|      m|              3.0|                1.0|              3.0|            1.0|         4.0|                    0.0|                 0.0|              0.0|               4.0|                1.0|               3.0|                             0.0|                             0.0|                           0.0|                           0.0|              0.0|               0.0|                0.0|              0.0|                      2.0|               2.0|            5.0|\n",
            "|    e|        x|          y|        y|      t|   l|              f|           c|        b|         g|          e|         c|                       s|                       s|                     w|                     w|        p|         w|          o|        p|                n|         n|      g|              0.0|                0.0|              3.0|            1.0|         5.0|                    0.0|                 0.0|              0.0|               4.0|                1.0|               3.0|                             0.0|                             0.0|                           0.0|                           0.0|              0.0|               0.0|                0.0|              0.0|                      1.0|               3.0|            1.0|\n",
            "|    e|        x|          y|        y|      t|   a|              f|           c|        b|         n|          e|         c|                       s|                       s|                     w|                     w|        p|         w|          o|        p|                k|         s|      m|              0.0|                0.0|              3.0|            1.0|         4.0|                    0.0|                 0.0|              0.0|               3.0|                1.0|               3.0|                             0.0|                             0.0|                           0.0|                           0.0|              0.0|               0.0|                0.0|              0.0|                      2.0|               2.0|            5.0|\n",
            "|    e|        b|          s|        y|      t|   a|              f|           c|        b|         w|          e|         c|                       s|                       s|                     w|                     w|        p|         w|          o|        p|                n|         s|      g|              3.0|                1.0|              3.0|            1.0|         4.0|                    0.0|                 0.0|              0.0|               2.0|                1.0|               3.0|                             0.0|                             0.0|                           0.0|                           0.0|              0.0|               0.0|                0.0|              0.0|                      1.0|               2.0|            1.0|\n",
            "|    p|        x|          y|        w|      t|   p|              f|           c|        n|         k|          e|         e|                       s|                       s|                     w|                     w|        p|         w|          o|        p|                n|         v|      u|              0.0|                0.0|              4.0|            1.0|         6.0|                    0.0|                 0.0|              1.0|               7.0|                1.0|               2.0|                             0.0|                             0.0|                           0.0|                           0.0|              0.0|               0.0|                0.0|              0.0|                      1.0|               0.0|            4.0|\n",
            "|    e|        x|          f|        n|      f|   n|              f|           w|        b|         n|          t|         e|                       s|                       f|                     w|                     w|        p|         w|          o|        e|                k|         a|      g|              0.0|                2.0|              0.0|            0.0|         0.0|                    0.0|                 1.0|              0.0|               3.0|                0.0|               2.0|                             0.0|                             2.0|                           0.0|                           0.0|              0.0|               0.0|                0.0|              1.0|                      2.0|               4.0|            1.0|\n",
            "|    e|        s|          f|        g|      f|   n|              f|           c|        n|         k|          e|         e|                       s|                       s|                     w|                     w|        p|         w|          o|        p|                n|         y|      u|              4.0|                2.0|              1.0|            0.0|         0.0|                    0.0|                 0.0|              1.0|               7.0|                1.0|               2.0|                             0.0|                             0.0|                           0.0|                           0.0|              0.0|               0.0|                0.0|              0.0|                      1.0|               1.0|            4.0|\n",
            "|    e|        f|          f|        w|      f|   n|              f|           w|        b|         k|          t|         e|                       s|                       s|                     w|                     w|        p|         w|          o|        e|                n|         a|      g|              1.0|                2.0|              4.0|            0.0|         0.0|                    0.0|                 1.0|              0.0|               7.0|                0.0|               2.0|                             0.0|                             0.0|                           0.0|                           0.0|              0.0|               0.0|                0.0|              1.0|                      1.0|               4.0|            1.0|\n",
            "|    p|        x|          s|        n|      t|   p|              f|           c|        n|         n|          e|         e|                       s|                       s|                     w|                     w|        p|         w|          o|        p|                k|         s|      g|              0.0|                1.0|              0.0|            1.0|         6.0|                    0.0|                 0.0|              1.0|               3.0|                1.0|               2.0|                             0.0|                             0.0|                           0.0|                           0.0|              0.0|               0.0|                0.0|              0.0|                      2.0|               2.0|            1.0|\n",
            "|    p|        x|          y|        w|      t|   p|              f|           c|        n|         n|          e|         e|                       s|                       s|                     w|                     w|        p|         w|          o|        p|                n|         s|      u|              0.0|                0.0|              4.0|            1.0|         6.0|                    0.0|                 0.0|              1.0|               3.0|                1.0|               2.0|                             0.0|                             0.0|                           0.0|                           0.0|              0.0|               0.0|                0.0|              0.0|                      1.0|               2.0|            4.0|\n",
            "|    p|        x|          s|        n|      t|   p|              f|           c|        n|         k|          e|         e|                       s|                       s|                     w|                     w|        p|         w|          o|        p|                n|         s|      u|              0.0|                1.0|              0.0|            1.0|         6.0|                    0.0|                 0.0|              1.0|               7.0|                1.0|               2.0|                             0.0|                             0.0|                           0.0|                           0.0|              0.0|               0.0|                0.0|              0.0|                      1.0|               2.0|            4.0|\n",
            "+-----+---------+-----------+---------+-------+----+---------------+------------+---------+----------+-----------+----------+------------------------+------------------------+----------------------+----------------------+---------+----------+-----------+---------+-----------------+----------+-------+-----------------+-------------------+-----------------+---------------+------------+-----------------------+--------------------+-----------------+------------------+-------------------+------------------+--------------------------------+--------------------------------+------------------------------+------------------------------+-----------------+------------------+-------------------+-----------------+-------------------------+------------------+---------------+\n",
            "only showing top 20 rows\n",
            "\n"
          ]
        }
      ]
    },
    {
      "cell_type": "code",
      "source": [
        "feature_columns = [col + '_numeric' for col in columns]\n",
        "feature_columns"
      ],
      "metadata": {
        "colab": {
          "base_uri": "https://localhost:8080/"
        },
        "id": "_-3gjVHifHZc",
        "outputId": "368273bf-5b29-4ed6-cf75-e8c4e82b7ff7"
      },
      "execution_count": null,
      "outputs": [
        {
          "output_type": "execute_result",
          "data": {
            "text/plain": [
              "['cap-shape_numeric',\n",
              " 'cap-surface_numeric',\n",
              " 'cap-color_numeric',\n",
              " 'bruises_numeric',\n",
              " 'odor_numeric',\n",
              " 'gill-attachment_numeric',\n",
              " 'gill-spacing_numeric',\n",
              " 'gill-size_numeric',\n",
              " 'gill-color_numeric',\n",
              " 'stalk-shape_numeric',\n",
              " 'stalk-root_numeric',\n",
              " 'stalk-surface-above-ring_numeric',\n",
              " 'stalk-surface-below-ring_numeric',\n",
              " 'stalk-color-above-ring_numeric',\n",
              " 'stalk-color-below-ring_numeric',\n",
              " 'veil-type_numeric',\n",
              " 'veil-color_numeric',\n",
              " 'ring-number_numeric',\n",
              " 'ring-type_numeric',\n",
              " 'spore-print-color_numeric',\n",
              " 'population_numeric',\n",
              " 'habitat_numeric']"
            ]
          },
          "metadata": {},
          "execution_count": 41
        }
      ]
    },
    {
      "cell_type": "code",
      "source": [
        "(train, test) = df_indexed.randomSplit([0.8, 0.2])"
      ],
      "metadata": {
        "id": "oJ-O5W9JexhI"
      },
      "execution_count": null,
      "outputs": []
    },
    {
      "cell_type": "code",
      "source": [
        "# Tạo assembler gom các giá trị ở các cột dùng làm features thành\n",
        "# các vector ở cột \"features\"\n",
        "assembler = VectorAssembler(inputCols=feature_columns, outputCol='features')\n",
        "\n",
        "# Tạo indexer để tạo index cho các vector ở cột \"features\"\n",
        "featureIndexer = VectorIndexer(inputCol=\"features\", outputCol=\"indexedFeatures\", maxCategories=50)\n",
        "\n",
        "# Tạo indexer để map các giá trị cột \"Label\" sang chỉ số nhãn (label indices)\n",
        "labelIndexer = StringIndexer(inputCol='class', outputCol='indexedLabel')\n",
        "\n",
        "# Tạo một bộ phân loại decision tree\n",
        "dt = DecisionTreeClassifier(featuresCol=\"indexedFeatures\", labelCol=\"indexedLabel\")\n",
        "\n",
        "# Xây dựng pipeline là chuỗi các assembler, indexer và classifier\n",
        "pipeline = Pipeline(stages=[assembler, featureIndexer, labelIndexer, dt])\n",
        "\n",
        "# Training với pipeline đã tạo\n",
        "model = pipeline.fit(train)"
      ],
      "metadata": {
        "id": "AzJu3kJhfKrt"
      },
      "execution_count": null,
      "outputs": []
    },
    {
      "cell_type": "code",
      "source": [
        "# Sử dụng model đã train để dự đoán trên tập test\n",
        "predictions = model.transform(test)\n",
        "# In ra cột features, giá trị dự đoán và nhãn\n",
        "predictions.select(\"features\", \"prediction\", \"indexedLabel\").show(5)"
      ],
      "metadata": {
        "colab": {
          "base_uri": "https://localhost:8080/"
        },
        "id": "pWUhDzb2f8tg",
        "outputId": "77c1cb2d-2a89-4860-f8be-a226a91e7c47"
      },
      "execution_count": null,
      "outputs": [
        {
          "output_type": "stream",
          "name": "stdout",
          "text": [
            "+--------------------+----------+------------+\n",
            "|            features|prediction|indexedLabel|\n",
            "+--------------------+----------+------------+\n",
            "|(22,[0,1,2,6,8,9,...|       0.0|         0.0|\n",
            "|(22,[0,1,2,6,8,9,...|       0.0|         0.0|\n",
            "|(22,[0,1,2,6,8,9,...|       0.0|         0.0|\n",
            "|(22,[0,1,2,6,8,9,...|       0.0|         0.0|\n",
            "|(22,[0,1,2,6,8,9,...|       0.0|         0.0|\n",
            "+--------------------+----------+------------+\n",
            "only showing top 5 rows\n",
            "\n"
          ]
        }
      ]
    },
    {
      "cell_type": "code",
      "source": [
        "# Tạo một Evaluator và tính độ chính xác dự đoán của model\n",
        "evaluator = MulticlassClassificationEvaluator(\n",
        "    labelCol=\"indexedLabel\", predictionCol=\"prediction\", metricName=\"accuracy\")\n",
        "accuracy = evaluator.evaluate(predictions)\n",
        "\n",
        "# In thông tin summary của model\n",
        "treeModel = model.stages[-1]\n",
        "print(treeModel)\n",
        "# In các kết quả đánh giá model\n",
        "print(\"Decision Tree - Test Accuracy = %g\" % (accuracy))\n",
        "print(\"Decision Tree - Test Error = %g\" % (1.0 - accuracy))"
      ],
      "metadata": {
        "colab": {
          "base_uri": "https://localhost:8080/"
        },
        "id": "Mv1OZLMMgEE9",
        "outputId": "56b09eaf-058f-4601-958b-3f1d695cdd0f"
      },
      "execution_count": null,
      "outputs": [
        {
          "output_type": "stream",
          "name": "stdout",
          "text": [
            "DecisionTreeClassificationModel: uid=DecisionTreeClassifier_31490bd4e1f8, depth=4, numNodes=9, numClasses=2, numFeatures=22\n",
            "Decision Tree - Test Accuracy = 0.996224\n",
            "Decision Tree - Test Error = 0.00377596\n"
          ]
        }
      ]
    },
    {
      "cell_type": "code",
      "source": [
        "# Tạo y_true, y_pred kiểu list để đánh giá model sử dụng các hàm của sklearn\n",
        "y_true = predictions.select(\"indexedLabel\").rdd.flatMap(lambda x: x).collect()\n",
        "y_pred = predictions.select(\"prediction\").rdd.flatMap(lambda x: x).collect()\n",
        "\n",
        "# Tính toán confusion matrix, precision và recall của model\n",
        "confusionmatrix = confusion_matrix(y_true, y_pred)\n",
        "precision = precision_score(y_true, y_pred, average='micro')\n",
        "recall = recall_score(y_true, y_pred, average='micro')\n",
        "\n",
        "print(\"The Confusion Matrix for Decision Tree Model is :\\n\" + str(confusionmatrix))\n",
        "print(\"The precision score for Decision Tree Model is: \" + str(precision))\n",
        "print(\"The recall score for Decision Tree Model is: \" + str(recall))"
      ],
      "metadata": {
        "colab": {
          "base_uri": "https://localhost:8080/"
        },
        "id": "6YGmghJsgKJk",
        "outputId": "3a8af0e2-1686-4027-f890-75e216333d74"
      },
      "execution_count": null,
      "outputs": [
        {
          "output_type": "stream",
          "name": "stdout",
          "text": [
            "The Confusion Matrix for Decision Tree Model is :\n",
            "[[837   0]\n",
            " [  6 746]]\n",
            "The precision score for Decision Tree Model is: 0.9962240402769037\n",
            "The recall score for Decision Tree Model is: 0.9962240402769037\n"
          ]
        }
      ]
    },
    {
      "cell_type": "markdown",
      "source": [
        "# Random Forest"
      ],
      "metadata": {
        "id": "2JOX3s7Dnfkq"
      }
    },
    {
      "cell_type": "code",
      "source": [
        "assembler = VectorAssembler(inputCols=feature_columns, outputCol=\"features\")\n",
        "\n",
        "# StringIndexer để mã hóa cột label thành một cột chỉ số nhãn.\n",
        "# Theo mặc định, các nhãn được gán theo tần số. Vì vậy, \n",
        "# label xuất hiện thường xuyên nhất nhận được chỉ số 0.\n",
        "labelIndexer = StringIndexer(inputCol=\"class\", outputCol=\"indexedLabel\")\n",
        "\n",
        "# Tự động phân loại các features thành maxCategories nhóm.\n",
        "featureIndexer = VectorIndexer(inputCol=\"features\", outputCol=\"indexedFeatures\", maxCategories=4)\n",
        "\n",
        "# Tạo một bộ phân loại random forest\n",
        "rf = RandomForestClassifier(labelCol=\"indexedLabel\", featuresCol=\"indexedFeatures\", numTrees=10)\n",
        "\n",
        "# Xây dựng pipeline\n",
        "pipeline = Pipeline(stages=[assembler, labelIndexer, featureIndexer, rf])\n",
        "\n",
        "# Train model.\n",
        "model = pipeline.fit(train)"
      ],
      "metadata": {
        "id": "bTaz4H1rnnAH"
      },
      "execution_count": null,
      "outputs": []
    },
    {
      "cell_type": "code",
      "source": [
        "# Sử dụng model đã train để dự đoán trên tập test\n",
        "predictions = model.transform(test)\n",
        "# Chọn một vài cột để thấy được kết quả\n",
        "predictions.select(\"features\", \"prediction\", \"indexedLabel\").show(5)"
      ],
      "metadata": {
        "colab": {
          "base_uri": "https://localhost:8080/"
        },
        "id": "KDiJCOohoMqF",
        "outputId": "761d87e8-c802-435b-e89b-89611d9de0c5"
      },
      "execution_count": null,
      "outputs": [
        {
          "output_type": "stream",
          "name": "stdout",
          "text": [
            "+--------------------+----------+------------+\n",
            "|            features|prediction|indexedLabel|\n",
            "+--------------------+----------+------------+\n",
            "|(22,[0,1,2,6,8,9,...|       0.0|         0.0|\n",
            "|(22,[0,1,2,6,8,9,...|       0.0|         0.0|\n",
            "|(22,[0,1,2,6,8,9,...|       0.0|         0.0|\n",
            "|(22,[0,1,2,6,8,9,...|       0.0|         0.0|\n",
            "|(22,[0,1,2,6,8,9,...|       0.0|         0.0|\n",
            "+--------------------+----------+------------+\n",
            "only showing top 5 rows\n",
            "\n"
          ]
        }
      ]
    },
    {
      "cell_type": "code",
      "source": [
        "# Đánh giá thuật toán \n",
        "evaluator = MulticlassClassificationEvaluator(\n",
        "    labelCol=\"indexedLabel\", predictionCol=\"prediction\", metricName=\"accuracy\")\n",
        "\n",
        "accuracy = evaluator.evaluate(predictions)\n",
        "print(\"Random Forest - Test Accuracy = %g\" % (accuracy))\n",
        "print(\"Random Forest - Test Error = %g\" % (1.0 - accuracy))"
      ],
      "metadata": {
        "colab": {
          "base_uri": "https://localhost:8080/"
        },
        "id": "P3_OGjDgoQTn",
        "outputId": "a012ebda-cb9d-42f0-ec8a-fbfb95e7b8a6"
      },
      "execution_count": null,
      "outputs": [
        {
          "output_type": "stream",
          "name": "stdout",
          "text": [
            "Random Forest - Test Accuracy = 0.998764\n",
            "Random Forest - Test Error = 0.00123609\n"
          ]
        }
      ]
    },
    {
      "cell_type": "code",
      "source": [
        "# Tạo y_true, y_pred kiểu list để đánh giá model sử dụng các hàm của sklearn\n",
        "y_true = predictions.select(\"indexedLabel\").rdd.flatMap(lambda x: x).collect()\n",
        "y_pred = predictions.select(\"prediction\").rdd.flatMap(lambda x: x).collect()\n",
        "\n",
        "# Tính toán confusion matrix, precision và recall của model\n",
        "confusionmatrix = confusion_matrix(y_true, y_pred)\n",
        "precision = precision_score(y_true, y_pred, average='micro')\n",
        "recall = recall_score(y_true, y_pred, average='micro')\n",
        "\n",
        "print(\"The Confusion Matrix for Random Forest Model is :\\n\" + str(confusionmatrix))\n",
        "print(\"The precision score for Random Forest Model is: \" + str(precision))\n",
        "print(\"The recall score for Random Forest Model is: \" + str(recall))"
      ],
      "metadata": {
        "id": "_W6yt3aVoSWj",
        "outputId": "28c42fb5-a6d0-48bb-e084-3d41693fa125",
        "colab": {
          "base_uri": "https://localhost:8080/"
        }
      },
      "execution_count": null,
      "outputs": [
        {
          "output_type": "stream",
          "name": "stdout",
          "text": [
            "The Confusion Matrix for Random Forest Model is :\n",
            "[[830   0]\n",
            " [  2 786]]\n",
            "The precision score for Random Forest Model is: 0.9987639060568603\n",
            "The recall score for Random Forest Model is: 0.9987639060568603\n"
          ]
        }
      ]
    }
  ]
}